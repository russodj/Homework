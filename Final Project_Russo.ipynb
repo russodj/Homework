{
 "cells": [
  {
   "cell_type": "code",
   "execution_count": 1,
   "metadata": {
    "collapsed": true
   },
   "outputs": [],
   "source": [
    "# Imports\n",
    "import pandas as pd\n",
    "import numpy as np\n",
    "import seaborn as sns\n",
    "import matplotlib.pyplot as plt\n",
    "\n",
    "# This allows plots to appear directly in the notebook.\n",
    "%matplotlib inline\n",
    "plt.style.use('ggplot') "
   ]
  },
  {
   "cell_type": "code",
   "execution_count": 2,
   "metadata": {
    "collapsed": true
   },
   "outputs": [],
   "source": [
    "# import team statistics and salary statistics\n",
    "\n",
    "teams = pd.read_csv('C:/Users/528264/Desktop/DS5k/Final Project/baseball-databank/Teams.csv', index_col=0)\n",
    "#batting = pd.read_csv('C:/Users/528264/Desktop/DS5k/Final Project/baseball-databank/Batting.csv', index_col=0)\n",
    "#pitching = pd.read_csv('C:/Users/528264/Desktop/DS5k/Final Project/baseball-databank/Pitching.csv', index_col=0)\n",
    "salaries = pd.read_csv('C:/Users/528264/Desktop/DS5k/Final Project/baseball-databank/Salaries.csv', index_col=0)"
   ]
  },
  {
   "cell_type": "code",
   "execution_count": 3,
   "metadata": {},
   "outputs": [
    {
     "data": {
      "text/plain": [
       "(888, 47)"
      ]
     },
     "execution_count": 3,
     "metadata": {},
     "output_type": "execute_result"
    }
   ],
   "source": [
    "# Remove all entries for teams before 1985 when salary data started being tracked.\n",
    "teams = teams[teams.yearID > 1984]\n",
    "teams.shape"
   ]
  },
  {
   "cell_type": "code",
   "execution_count": 4,
   "metadata": {
    "collapsed": true
   },
   "outputs": [],
   "source": [
    "# Create a column to make unique identifier based on the year and the team name\n",
    "teams[\"TeamYear\"] = teams[\"teamID\"] + teams[\"yearID\"].map(str)\n",
    "salaries[\"TeamYear\"] = salaries[\"teamID\"] + salaries[\"yearID\"].map(str)"
   ]
  },
  {
   "cell_type": "code",
   "execution_count": 5,
   "metadata": {},
   "outputs": [
    {
     "data": {
      "text/plain": [
       "TeamYear\n",
       "ANA1997    31135472\n",
       "ANA1998    41281000\n",
       "ANA1999    55388166\n",
       "ANA2000    51464167\n",
       "ANA2001    47535167\n",
       "Name: salary, dtype: int64"
      ]
     },
     "execution_count": 5,
     "metadata": {},
     "output_type": "execute_result"
    }
   ],
   "source": [
    "# Sum the player salaries for each team/year\n",
    "teamsalaries = salaries.groupby('TeamYear').salary.sum()\n",
    "teamsalaries.head()"
   ]
  },
  {
   "cell_type": "code",
   "execution_count": 6,
   "metadata": {
    "collapsed": true
   },
   "outputs": [],
   "source": [
    "# Create new table with teamsalaries\n",
    "\n",
    "teamsalaries = teamsalaries.rename().to_frame()\n",
    "teamsalaries.columns = ['Salary']\n",
    "teamsalaries = teamsalaries.reset_index(drop=False)\n"
   ]
  },
  {
   "cell_type": "code",
   "execution_count": 7,
   "metadata": {},
   "outputs": [
    {
     "data": {
      "text/html": [
       "<div>\n",
       "<style>\n",
       "    .dataframe thead tr:only-child th {\n",
       "        text-align: right;\n",
       "    }\n",
       "\n",
       "    .dataframe thead th {\n",
       "        text-align: left;\n",
       "    }\n",
       "\n",
       "    .dataframe tbody tr th {\n",
       "        vertical-align: top;\n",
       "    }\n",
       "</style>\n",
       "<table border=\"1\" class=\"dataframe\">\n",
       "  <thead>\n",
       "    <tr style=\"text-align: right;\">\n",
       "      <th></th>\n",
       "      <th>TeamYear</th>\n",
       "      <th>Salary</th>\n",
       "    </tr>\n",
       "  </thead>\n",
       "  <tbody>\n",
       "    <tr>\n",
       "      <th>0</th>\n",
       "      <td>ANA1997</td>\n",
       "      <td>31135472</td>\n",
       "    </tr>\n",
       "    <tr>\n",
       "      <th>1</th>\n",
       "      <td>ANA1998</td>\n",
       "      <td>41281000</td>\n",
       "    </tr>\n",
       "    <tr>\n",
       "      <th>2</th>\n",
       "      <td>ANA1999</td>\n",
       "      <td>55388166</td>\n",
       "    </tr>\n",
       "    <tr>\n",
       "      <th>3</th>\n",
       "      <td>ANA2000</td>\n",
       "      <td>51464167</td>\n",
       "    </tr>\n",
       "    <tr>\n",
       "      <th>4</th>\n",
       "      <td>ANA2001</td>\n",
       "      <td>47535167</td>\n",
       "    </tr>\n",
       "  </tbody>\n",
       "</table>\n",
       "</div>"
      ],
      "text/plain": [
       "  TeamYear    Salary\n",
       "0  ANA1997  31135472\n",
       "1  ANA1998  41281000\n",
       "2  ANA1999  55388166\n",
       "3  ANA2000  51464167\n",
       "4  ANA2001  47535167"
      ]
     },
     "execution_count": 7,
     "metadata": {},
     "output_type": "execute_result"
    }
   ],
   "source": [
    "teamsalaries.head()"
   ]
  },
  {
   "cell_type": "code",
   "execution_count": 8,
   "metadata": {
    "collapsed": true
   },
   "outputs": [],
   "source": [
    "# Merge team salary and team stat data\n",
    "team_stats = pd.merge(teams, teamsalaries)\n"
   ]
  },
  {
   "cell_type": "code",
   "execution_count": 9,
   "metadata": {},
   "outputs": [
    {
     "data": {
      "text/plain": [
       "(888, 49)"
      ]
     },
     "execution_count": 9,
     "metadata": {},
     "output_type": "execute_result"
    }
   ],
   "source": [
    "team_stats.shape"
   ]
  },
  {
   "cell_type": "code",
   "execution_count": 10,
   "metadata": {},
   "outputs": [
    {
     "data": {
      "text/plain": [
       "0    0.0\n",
       "1    0.0\n",
       "2    0.0\n",
       "3    0.0\n",
       "4    0.0\n",
       "Name: HBP, dtype: float64"
      ]
     },
     "execution_count": 10,
     "metadata": {},
     "output_type": "execute_result"
    }
   ],
   "source": [
    "team_stats[['HBP', 'SF']] = team_stats[['HBP', 'SF']].fillna(value=0)\n",
    "team_stats.HBP.head()"
   ]
  },
  {
   "cell_type": "code",
   "execution_count": 11,
   "metadata": {
    "collapsed": true
   },
   "outputs": [],
   "source": [
    "team_stats[\"BA\"] = team_stats[\"H\"] / team_stats[\"AB\"]\n",
    "team_stats['OBP'] = (team_stats['H'] + team_stats['BB'] + team_stats['HBP']) / (team_stats['AB'] + team_stats['BB'] + team_stats['HBP'] + team_stats['SF'])\n",
    "team_stats['SLG'] = (team_stats['H'] + team_stats['2B'] + (2*team_stats['3B']) + (3*team_stats['HR'])) / team_stats['AB']\n",
    "team_stats[\"OPS\"] = team_stats[\"OBP\"] + team_stats[\"SLG\"]\n",
    "team_stats[\"WHIP\"] = (team_stats[\"HA\"] + team_stats[\"BBA\"]) / (team_stats[\"IPouts\"]/3)\n",
    "team_stats['SBP'] = team_stats['SB'] / (team_stats['SB'] + team_stats['CS'])"
   ]
  },
  {
   "cell_type": "code",
   "execution_count": 12,
   "metadata": {},
   "outputs": [
    {
     "data": {
      "text/html": [
       "<div>\n",
       "<style>\n",
       "    .dataframe thead tr:only-child th {\n",
       "        text-align: right;\n",
       "    }\n",
       "\n",
       "    .dataframe thead th {\n",
       "        text-align: left;\n",
       "    }\n",
       "\n",
       "    .dataframe tbody tr th {\n",
       "        vertical-align: top;\n",
       "    }\n",
       "</style>\n",
       "<table border=\"1\" class=\"dataframe\">\n",
       "  <thead>\n",
       "    <tr style=\"text-align: right;\">\n",
       "      <th></th>\n",
       "      <th>teamID</th>\n",
       "      <th>yearID</th>\n",
       "      <th>lgID</th>\n",
       "      <th>divID</th>\n",
       "      <th>Rank</th>\n",
       "      <th>G</th>\n",
       "      <th>Ghome</th>\n",
       "      <th>W</th>\n",
       "      <th>L</th>\n",
       "      <th>DivWin</th>\n",
       "      <th>...</th>\n",
       "      <th>teamIDlahman45</th>\n",
       "      <th>teamIDretro</th>\n",
       "      <th>TeamYear</th>\n",
       "      <th>Salary</th>\n",
       "      <th>BA</th>\n",
       "      <th>OBP</th>\n",
       "      <th>SLG</th>\n",
       "      <th>OPS</th>\n",
       "      <th>WHIP</th>\n",
       "      <th>SBP</th>\n",
       "    </tr>\n",
       "  </thead>\n",
       "  <tbody>\n",
       "    <tr>\n",
       "      <th>0</th>\n",
       "      <td>ATL</td>\n",
       "      <td>1985</td>\n",
       "      <td>NL</td>\n",
       "      <td>W</td>\n",
       "      <td>5</td>\n",
       "      <td>162</td>\n",
       "      <td>81.0</td>\n",
       "      <td>66</td>\n",
       "      <td>96</td>\n",
       "      <td>N</td>\n",
       "      <td>...</td>\n",
       "      <td>ATL</td>\n",
       "      <td>ATL</td>\n",
       "      <td>ATL1985</td>\n",
       "      <td>14807000</td>\n",
       "      <td>0.245928</td>\n",
       "      <td>0.314525</td>\n",
       "      <td>0.363011</td>\n",
       "      <td>0.677537</td>\n",
       "      <td>1.478380</td>\n",
       "      <td>0.580645</td>\n",
       "    </tr>\n",
       "    <tr>\n",
       "      <th>1</th>\n",
       "      <td>BAL</td>\n",
       "      <td>1985</td>\n",
       "      <td>AL</td>\n",
       "      <td>E</td>\n",
       "      <td>4</td>\n",
       "      <td>161</td>\n",
       "      <td>81.0</td>\n",
       "      <td>83</td>\n",
       "      <td>78</td>\n",
       "      <td>N</td>\n",
       "      <td>...</td>\n",
       "      <td>BAL</td>\n",
       "      <td>BAL</td>\n",
       "      <td>BAL1985</td>\n",
       "      <td>11560712</td>\n",
       "      <td>0.263005</td>\n",
       "      <td>0.335729</td>\n",
       "      <td>0.429763</td>\n",
       "      <td>0.765492</td>\n",
       "      <td>1.435179</td>\n",
       "      <td>0.616071</td>\n",
       "    </tr>\n",
       "    <tr>\n",
       "      <th>2</th>\n",
       "      <td>BOS</td>\n",
       "      <td>1985</td>\n",
       "      <td>AL</td>\n",
       "      <td>E</td>\n",
       "      <td>5</td>\n",
       "      <td>163</td>\n",
       "      <td>81.0</td>\n",
       "      <td>81</td>\n",
       "      <td>81</td>\n",
       "      <td>N</td>\n",
       "      <td>...</td>\n",
       "      <td>BOS</td>\n",
       "      <td>BOS</td>\n",
       "      <td>BOS1985</td>\n",
       "      <td>10897560</td>\n",
       "      <td>0.282343</td>\n",
       "      <td>0.346546</td>\n",
       "      <td>0.429196</td>\n",
       "      <td>0.775741</td>\n",
       "      <td>1.387406</td>\n",
       "      <td>0.709677</td>\n",
       "    </tr>\n",
       "    <tr>\n",
       "      <th>3</th>\n",
       "      <td>CAL</td>\n",
       "      <td>1985</td>\n",
       "      <td>AL</td>\n",
       "      <td>W</td>\n",
       "      <td>2</td>\n",
       "      <td>162</td>\n",
       "      <td>79.0</td>\n",
       "      <td>90</td>\n",
       "      <td>72</td>\n",
       "      <td>N</td>\n",
       "      <td>...</td>\n",
       "      <td>CAL</td>\n",
       "      <td>CAL</td>\n",
       "      <td>CAL1985</td>\n",
       "      <td>14427894</td>\n",
       "      <td>0.250643</td>\n",
       "      <td>0.330378</td>\n",
       "      <td>0.385888</td>\n",
       "      <td>0.716265</td>\n",
       "      <td>1.350034</td>\n",
       "      <td>0.675159</td>\n",
       "    </tr>\n",
       "    <tr>\n",
       "      <th>4</th>\n",
       "      <td>CHA</td>\n",
       "      <td>1985</td>\n",
       "      <td>AL</td>\n",
       "      <td>W</td>\n",
       "      <td>3</td>\n",
       "      <td>163</td>\n",
       "      <td>81.0</td>\n",
       "      <td>85</td>\n",
       "      <td>77</td>\n",
       "      <td>N</td>\n",
       "      <td>...</td>\n",
       "      <td>CHA</td>\n",
       "      <td>CHA</td>\n",
       "      <td>CHA1985</td>\n",
       "      <td>9846178</td>\n",
       "      <td>0.253382</td>\n",
       "      <td>0.312574</td>\n",
       "      <td>0.392139</td>\n",
       "      <td>0.704713</td>\n",
       "      <td>1.364576</td>\n",
       "      <td>0.658537</td>\n",
       "    </tr>\n",
       "  </tbody>\n",
       "</table>\n",
       "<p>5 rows × 55 columns</p>\n",
       "</div>"
      ],
      "text/plain": [
       "  teamID  yearID lgID divID  Rank    G  Ghome   W   L DivWin    ...     \\\n",
       "0    ATL    1985   NL     W     5  162   81.0  66  96      N    ...      \n",
       "1    BAL    1985   AL     E     4  161   81.0  83  78      N    ...      \n",
       "2    BOS    1985   AL     E     5  163   81.0  81  81      N    ...      \n",
       "3    CAL    1985   AL     W     2  162   79.0  90  72      N    ...      \n",
       "4    CHA    1985   AL     W     3  163   81.0  85  77      N    ...      \n",
       "\n",
       "  teamIDlahman45 teamIDretro TeamYear    Salary        BA       OBP       SLG  \\\n",
       "0            ATL         ATL  ATL1985  14807000  0.245928  0.314525  0.363011   \n",
       "1            BAL         BAL  BAL1985  11560712  0.263005  0.335729  0.429763   \n",
       "2            BOS         BOS  BOS1985  10897560  0.282343  0.346546  0.429196   \n",
       "3            CAL         CAL  CAL1985  14427894  0.250643  0.330378  0.385888   \n",
       "4            CHA         CHA  CHA1985   9846178  0.253382  0.312574  0.392139   \n",
       "\n",
       "        OPS      WHIP       SBP  \n",
       "0  0.677537  1.478380  0.580645  \n",
       "1  0.765492  1.435179  0.616071  \n",
       "2  0.775741  1.387406  0.709677  \n",
       "3  0.716265  1.350034  0.675159  \n",
       "4  0.704713  1.364576  0.658537  \n",
       "\n",
       "[5 rows x 55 columns]"
      ]
     },
     "execution_count": 12,
     "metadata": {},
     "output_type": "execute_result"
    }
   ],
   "source": [
    "team_stats.head()"
   ]
  },
  {
   "cell_type": "code",
   "execution_count": 13,
   "metadata": {},
   "outputs": [
    {
     "name": "stdout",
     "output_type": "stream",
     "text": [
      "<class 'pandas.core.frame.DataFrame'>\n",
      "Int64Index: 888 entries, 0 to 887\n",
      "Data columns (total 55 columns):\n",
      "teamID            888 non-null object\n",
      "yearID            888 non-null int64\n",
      "lgID              888 non-null object\n",
      "divID             888 non-null object\n",
      "Rank              888 non-null int64\n",
      "G                 888 non-null int64\n",
      "Ghome             888 non-null float64\n",
      "W                 888 non-null int64\n",
      "L                 888 non-null int64\n",
      "DivWin            860 non-null object\n",
      "WCWin             624 non-null object\n",
      "LgWin             860 non-null object\n",
      "WSWin             860 non-null object\n",
      "R                 888 non-null int64\n",
      "AB                888 non-null int64\n",
      "H                 888 non-null int64\n",
      "2B                888 non-null int64\n",
      "3B                888 non-null int64\n",
      "HR                888 non-null int64\n",
      "BB                888 non-null int64\n",
      "SO                888 non-null float64\n",
      "SB                888 non-null float64\n",
      "CS                888 non-null float64\n",
      "HBP               888 non-null float64\n",
      "SF                888 non-null float64\n",
      "RA                888 non-null int64\n",
      "ER                888 non-null int64\n",
      "ERA               888 non-null float64\n",
      "CG                888 non-null int64\n",
      "SHO               888 non-null int64\n",
      "SV                888 non-null int64\n",
      "IPouts            888 non-null int64\n",
      "HA                888 non-null int64\n",
      "HRA               888 non-null int64\n",
      "BBA               888 non-null int64\n",
      "SOA               888 non-null int64\n",
      "E                 888 non-null int64\n",
      "DP                888 non-null float64\n",
      "FP                888 non-null float64\n",
      "name              888 non-null object\n",
      "park              888 non-null object\n",
      "attendance        888 non-null float64\n",
      "BPF               888 non-null int64\n",
      "PPF               888 non-null int64\n",
      "teamIDBR          888 non-null object\n",
      "teamIDlahman45    888 non-null object\n",
      "teamIDretro       888 non-null object\n",
      "TeamYear          888 non-null object\n",
      "Salary            888 non-null int64\n",
      "BA                888 non-null float64\n",
      "OBP               888 non-null float64\n",
      "SLG               888 non-null float64\n",
      "OPS               888 non-null float64\n",
      "WHIP              888 non-null float64\n",
      "SBP               888 non-null float64\n",
      "dtypes: float64(16), int64(26), object(13)\n",
      "memory usage: 388.5+ KB\n"
     ]
    }
   ],
   "source": [
    "team_stats.info()"
   ]
  },
  {
   "cell_type": "code",
   "execution_count": 14,
   "metadata": {},
   "outputs": [
    {
     "data": {
      "text/plain": [
       "['TeamYear',\n",
       " 'W',\n",
       " 'HR',\n",
       " 'ERA',\n",
       " 'SO',\n",
       " 'SB',\n",
       " 'HRA',\n",
       " 'SOA',\n",
       " 'WHIP',\n",
       " 'E',\n",
       " 'OBP',\n",
       " 'SLG',\n",
       " 'OPS',\n",
       " 'Salary',\n",
       " 'attendance']"
      ]
     },
     "execution_count": 14,
     "metadata": {},
     "output_type": "execute_result"
    }
   ],
   "source": [
    "analysis = team_stats[['TeamYear', 'W', 'HR', 'ERA', 'SO', 'SB','HRA', 'SOA', 'WHIP', 'E', 'OBP', 'SLG', 'OPS', 'Salary', 'attendance']].copy()\n",
    "list(analysis)    "
   ]
  },
  {
   "cell_type": "code",
   "execution_count": 28,
   "metadata": {},
   "outputs": [
    {
     "data": {
      "text/html": [
       "<div>\n",
       "<style>\n",
       "    .dataframe thead tr:only-child th {\n",
       "        text-align: right;\n",
       "    }\n",
       "\n",
       "    .dataframe thead th {\n",
       "        text-align: left;\n",
       "    }\n",
       "\n",
       "    .dataframe tbody tr th {\n",
       "        vertical-align: top;\n",
       "    }\n",
       "</style>\n",
       "<table border=\"1\" class=\"dataframe\">\n",
       "  <thead>\n",
       "    <tr style=\"text-align: right;\">\n",
       "      <th></th>\n",
       "      <th>TeamYear</th>\n",
       "      <th>W</th>\n",
       "      <th>HR</th>\n",
       "      <th>ERA</th>\n",
       "      <th>SO</th>\n",
       "      <th>SB</th>\n",
       "      <th>HRA</th>\n",
       "      <th>SOA</th>\n",
       "      <th>WHIP</th>\n",
       "      <th>E</th>\n",
       "      <th>OBP</th>\n",
       "      <th>SLG</th>\n",
       "      <th>OPS</th>\n",
       "      <th>Salary</th>\n",
       "      <th>attendance</th>\n",
       "    </tr>\n",
       "  </thead>\n",
       "  <tbody>\n",
       "    <tr>\n",
       "      <th>883</th>\n",
       "      <td>LAN2015</td>\n",
       "      <td>92</td>\n",
       "      <td>187</td>\n",
       "      <td>3.44</td>\n",
       "      <td>1258.0</td>\n",
       "      <td>59.0</td>\n",
       "      <td>145</td>\n",
       "      <td>1396</td>\n",
       "      <td>1.184229</td>\n",
       "      <td>75</td>\n",
       "      <td>0.326101</td>\n",
       "      <td>0.412628</td>\n",
       "      <td>0.738729</td>\n",
       "      <td>215792000</td>\n",
       "      <td>3764815.0</td>\n",
       "    </tr>\n",
       "    <tr>\n",
       "      <th>884</th>\n",
       "      <td>SFN2015</td>\n",
       "      <td>84</td>\n",
       "      <td>136</td>\n",
       "      <td>3.72</td>\n",
       "      <td>1159.0</td>\n",
       "      <td>93.0</td>\n",
       "      <td>155</td>\n",
       "      <td>1165</td>\n",
       "      <td>1.228941</td>\n",
       "      <td>78</td>\n",
       "      <td>0.326130</td>\n",
       "      <td>0.406110</td>\n",
       "      <td>0.732239</td>\n",
       "      <td>164701500</td>\n",
       "      <td>3375882.0</td>\n",
       "    </tr>\n",
       "    <tr>\n",
       "      <th>885</th>\n",
       "      <td>ARI2015</td>\n",
       "      <td>79</td>\n",
       "      <td>154</td>\n",
       "      <td>4.04</td>\n",
       "      <td>1312.0</td>\n",
       "      <td>132.0</td>\n",
       "      <td>182</td>\n",
       "      <td>1215</td>\n",
       "      <td>1.329545</td>\n",
       "      <td>86</td>\n",
       "      <td>0.323808</td>\n",
       "      <td>0.414410</td>\n",
       "      <td>0.738218</td>\n",
       "      <td>61834000</td>\n",
       "      <td>2080145.0</td>\n",
       "    </tr>\n",
       "    <tr>\n",
       "      <th>886</th>\n",
       "      <td>SDN2015</td>\n",
       "      <td>74</td>\n",
       "      <td>148</td>\n",
       "      <td>4.09</td>\n",
       "      <td>1327.0</td>\n",
       "      <td>82.0</td>\n",
       "      <td>171</td>\n",
       "      <td>1393</td>\n",
       "      <td>1.310113</td>\n",
       "      <td>92</td>\n",
       "      <td>0.300084</td>\n",
       "      <td>0.384827</td>\n",
       "      <td>0.684911</td>\n",
       "      <td>118441300</td>\n",
       "      <td>2459742.0</td>\n",
       "    </tr>\n",
       "    <tr>\n",
       "      <th>887</th>\n",
       "      <td>COL2015</td>\n",
       "      <td>68</td>\n",
       "      <td>186</td>\n",
       "      <td>5.04</td>\n",
       "      <td>1283.0</td>\n",
       "      <td>97.0</td>\n",
       "      <td>183</td>\n",
       "      <td>1112</td>\n",
       "      <td>1.512970</td>\n",
       "      <td>95</td>\n",
       "      <td>0.315248</td>\n",
       "      <td>0.432340</td>\n",
       "      <td>0.747588</td>\n",
       "      <td>95688600</td>\n",
       "      <td>2506789.0</td>\n",
       "    </tr>\n",
       "  </tbody>\n",
       "</table>\n",
       "</div>"
      ],
      "text/plain": [
       "    TeamYear   W   HR   ERA      SO     SB  HRA   SOA      WHIP   E       OBP  \\\n",
       "883  LAN2015  92  187  3.44  1258.0   59.0  145  1396  1.184229  75  0.326101   \n",
       "884  SFN2015  84  136  3.72  1159.0   93.0  155  1165  1.228941  78  0.326130   \n",
       "885  ARI2015  79  154  4.04  1312.0  132.0  182  1215  1.329545  86  0.323808   \n",
       "886  SDN2015  74  148  4.09  1327.0   82.0  171  1393  1.310113  92  0.300084   \n",
       "887  COL2015  68  186  5.04  1283.0   97.0  183  1112  1.512970  95  0.315248   \n",
       "\n",
       "          SLG       OPS     Salary  attendance  \n",
       "883  0.412628  0.738729  215792000   3764815.0  \n",
       "884  0.406110  0.732239  164701500   3375882.0  \n",
       "885  0.414410  0.738218   61834000   2080145.0  \n",
       "886  0.384827  0.684911  118441300   2459742.0  \n",
       "887  0.432340  0.747588   95688600   2506789.0  "
      ]
     },
     "execution_count": 28,
     "metadata": {},
     "output_type": "execute_result"
    }
   ],
   "source": [
    "analysis.tail()"
   ]
  },
  {
   "cell_type": "code",
   "execution_count": 15,
   "metadata": {},
   "outputs": [
    {
     "name": "stdout",
     "output_type": "stream",
     "text": [
      "<class 'pandas.core.frame.DataFrame'>\n",
      "Int64Index: 888 entries, 0 to 887\n",
      "Data columns (total 15 columns):\n",
      "TeamYear      888 non-null object\n",
      "W             888 non-null int64\n",
      "HR            888 non-null int64\n",
      "ERA           888 non-null float64\n",
      "SO            888 non-null float64\n",
      "SB            888 non-null float64\n",
      "HRA           888 non-null int64\n",
      "SOA           888 non-null int64\n",
      "WHIP          888 non-null float64\n",
      "E             888 non-null int64\n",
      "OBP           888 non-null float64\n",
      "SLG           888 non-null float64\n",
      "OPS           888 non-null float64\n",
      "Salary        888 non-null int64\n",
      "attendance    888 non-null float64\n",
      "dtypes: float64(8), int64(6), object(1)\n",
      "memory usage: 111.0+ KB\n"
     ]
    }
   ],
   "source": [
    "analysis.info()"
   ]
  },
  {
   "cell_type": "code",
   "execution_count": 16,
   "metadata": {},
   "outputs": [
    {
     "data": {
      "text/plain": [
       "TeamYear      0\n",
       "W             0\n",
       "HR            0\n",
       "ERA           0\n",
       "SO            0\n",
       "SB            0\n",
       "HRA           0\n",
       "SOA           0\n",
       "WHIP          0\n",
       "E             0\n",
       "OBP           0\n",
       "SLG           0\n",
       "OPS           0\n",
       "Salary        0\n",
       "attendance    0\n",
       "dtype: int64"
      ]
     },
     "execution_count": 16,
     "metadata": {},
     "output_type": "execute_result"
    }
   ],
   "source": [
    "analysis.isnull().sum()"
   ]
  },
  {
   "cell_type": "code",
   "execution_count": 17,
   "metadata": {},
   "outputs": [
    {
     "data": {
      "text/html": [
       "<div>\n",
       "<style>\n",
       "    .dataframe thead tr:only-child th {\n",
       "        text-align: right;\n",
       "    }\n",
       "\n",
       "    .dataframe thead th {\n",
       "        text-align: left;\n",
       "    }\n",
       "\n",
       "    .dataframe tbody tr th {\n",
       "        vertical-align: top;\n",
       "    }\n",
       "</style>\n",
       "<table border=\"1\" class=\"dataframe\">\n",
       "  <thead>\n",
       "    <tr style=\"text-align: right;\">\n",
       "      <th></th>\n",
       "      <th>TeamYear</th>\n",
       "      <th>W</th>\n",
       "      <th>HR</th>\n",
       "      <th>ERA</th>\n",
       "      <th>SO</th>\n",
       "      <th>SB</th>\n",
       "      <th>HRA</th>\n",
       "      <th>SOA</th>\n",
       "      <th>WHIP</th>\n",
       "      <th>E</th>\n",
       "      <th>OBP</th>\n",
       "      <th>SLG</th>\n",
       "      <th>OPS</th>\n",
       "      <th>Salary</th>\n",
       "      <th>attendance</th>\n",
       "    </tr>\n",
       "  </thead>\n",
       "  <tbody>\n",
       "    <tr>\n",
       "      <th>count</th>\n",
       "      <td>888</td>\n",
       "      <td>888.000000</td>\n",
       "      <td>888.000000</td>\n",
       "      <td>888.000000</td>\n",
       "      <td>888.000000</td>\n",
       "      <td>888.000000</td>\n",
       "      <td>888.000000</td>\n",
       "      <td>888.000000</td>\n",
       "      <td>888.000000</td>\n",
       "      <td>888.000000</td>\n",
       "      <td>888.000000</td>\n",
       "      <td>888.000000</td>\n",
       "      <td>888.000000</td>\n",
       "      <td>8.880000e+02</td>\n",
       "      <td>8.880000e+02</td>\n",
       "    </tr>\n",
       "    <tr>\n",
       "      <th>unique</th>\n",
       "      <td>888</td>\n",
       "      <td>NaN</td>\n",
       "      <td>NaN</td>\n",
       "      <td>NaN</td>\n",
       "      <td>NaN</td>\n",
       "      <td>NaN</td>\n",
       "      <td>NaN</td>\n",
       "      <td>NaN</td>\n",
       "      <td>NaN</td>\n",
       "      <td>NaN</td>\n",
       "      <td>NaN</td>\n",
       "      <td>NaN</td>\n",
       "      <td>NaN</td>\n",
       "      <td>NaN</td>\n",
       "      <td>NaN</td>\n",
       "    </tr>\n",
       "    <tr>\n",
       "      <th>top</th>\n",
       "      <td>CHN1987</td>\n",
       "      <td>NaN</td>\n",
       "      <td>NaN</td>\n",
       "      <td>NaN</td>\n",
       "      <td>NaN</td>\n",
       "      <td>NaN</td>\n",
       "      <td>NaN</td>\n",
       "      <td>NaN</td>\n",
       "      <td>NaN</td>\n",
       "      <td>NaN</td>\n",
       "      <td>NaN</td>\n",
       "      <td>NaN</td>\n",
       "      <td>NaN</td>\n",
       "      <td>NaN</td>\n",
       "      <td>NaN</td>\n",
       "    </tr>\n",
       "    <tr>\n",
       "      <th>freq</th>\n",
       "      <td>1</td>\n",
       "      <td>NaN</td>\n",
       "      <td>NaN</td>\n",
       "      <td>NaN</td>\n",
       "      <td>NaN</td>\n",
       "      <td>NaN</td>\n",
       "      <td>NaN</td>\n",
       "      <td>NaN</td>\n",
       "      <td>NaN</td>\n",
       "      <td>NaN</td>\n",
       "      <td>NaN</td>\n",
       "      <td>NaN</td>\n",
       "      <td>NaN</td>\n",
       "      <td>NaN</td>\n",
       "      <td>NaN</td>\n",
       "    </tr>\n",
       "    <tr>\n",
       "      <th>mean</th>\n",
       "      <td>NaN</td>\n",
       "      <td>79.911036</td>\n",
       "      <td>157.081081</td>\n",
       "      <td>4.206599</td>\n",
       "      <td>1036.444820</td>\n",
       "      <td>104.930180</td>\n",
       "      <td>157.081081</td>\n",
       "      <td>1036.440315</td>\n",
       "      <td>1.372083</td>\n",
       "      <td>109.422297</td>\n",
       "      <td>0.328507</td>\n",
       "      <td>0.409492</td>\n",
       "      <td>0.737999</td>\n",
       "      <td>5.784797e+07</td>\n",
       "      <td>2.291292e+06</td>\n",
       "    </tr>\n",
       "    <tr>\n",
       "      <th>std</th>\n",
       "      <td>NaN</td>\n",
       "      <td>11.881886</td>\n",
       "      <td>36.965357</td>\n",
       "      <td>0.560479</td>\n",
       "      <td>153.897304</td>\n",
       "      <td>36.623248</td>\n",
       "      <td>30.320724</td>\n",
       "      <td>153.879185</td>\n",
       "      <td>0.095039</td>\n",
       "      <td>20.016584</td>\n",
       "      <td>0.014525</td>\n",
       "      <td>0.029108</td>\n",
       "      <td>0.041427</td>\n",
       "      <td>4.147943e+07</td>\n",
       "      <td>7.212411e+05</td>\n",
       "    </tr>\n",
       "    <tr>\n",
       "      <th>min</th>\n",
       "      <td>NaN</td>\n",
       "      <td>43.000000</td>\n",
       "      <td>58.000000</td>\n",
       "      <td>2.910000</td>\n",
       "      <td>568.000000</td>\n",
       "      <td>25.000000</td>\n",
       "      <td>76.000000</td>\n",
       "      <td>560.000000</td>\n",
       "      <td>1.144647</td>\n",
       "      <td>54.000000</td>\n",
       "      <td>0.292066</td>\n",
       "      <td>0.326515</td>\n",
       "      <td>0.627195</td>\n",
       "      <td>8.800000e+05</td>\n",
       "      <td>6.427450e+05</td>\n",
       "    </tr>\n",
       "    <tr>\n",
       "      <th>25%</th>\n",
       "      <td>NaN</td>\n",
       "      <td>71.750000</td>\n",
       "      <td>129.000000</td>\n",
       "      <td>3.790000</td>\n",
       "      <td>926.000000</td>\n",
       "      <td>78.000000</td>\n",
       "      <td>135.000000</td>\n",
       "      <td>930.750000</td>\n",
       "      <td>1.302332</td>\n",
       "      <td>95.000000</td>\n",
       "      <td>0.319020</td>\n",
       "      <td>0.389673</td>\n",
       "      <td>0.708770</td>\n",
       "      <td>2.437550e+07</td>\n",
       "      <td>1.754821e+06</td>\n",
       "    </tr>\n",
       "    <tr>\n",
       "      <th>50%</th>\n",
       "      <td>NaN</td>\n",
       "      <td>80.000000</td>\n",
       "      <td>156.000000</td>\n",
       "      <td>4.170000</td>\n",
       "      <td>1035.500000</td>\n",
       "      <td>101.000000</td>\n",
       "      <td>158.000000</td>\n",
       "      <td>1034.000000</td>\n",
       "      <td>1.367042</td>\n",
       "      <td>108.000000</td>\n",
       "      <td>0.327477</td>\n",
       "      <td>0.407916</td>\n",
       "      <td>0.736323</td>\n",
       "      <td>4.879828e+07</td>\n",
       "      <td>2.237177e+06</td>\n",
       "    </tr>\n",
       "    <tr>\n",
       "      <th>75%</th>\n",
       "      <td>NaN</td>\n",
       "      <td>89.000000</td>\n",
       "      <td>181.000000</td>\n",
       "      <td>4.580000</td>\n",
       "      <td>1133.250000</td>\n",
       "      <td>127.000000</td>\n",
       "      <td>177.000000</td>\n",
       "      <td>1143.000000</td>\n",
       "      <td>1.438273</td>\n",
       "      <td>123.000000</td>\n",
       "      <td>0.338110</td>\n",
       "      <td>0.429418</td>\n",
       "      <td>0.766015</td>\n",
       "      <td>8.166700e+07</td>\n",
       "      <td>2.811744e+06</td>\n",
       "    </tr>\n",
       "    <tr>\n",
       "      <th>max</th>\n",
       "      <td>NaN</td>\n",
       "      <td>116.000000</td>\n",
       "      <td>264.000000</td>\n",
       "      <td>6.380000</td>\n",
       "      <td>1535.000000</td>\n",
       "      <td>314.000000</td>\n",
       "      <td>241.000000</td>\n",
       "      <td>1450.000000</td>\n",
       "      <td>1.733939</td>\n",
       "      <td>179.000000</td>\n",
       "      <td>0.373118</td>\n",
       "      <td>0.490900</td>\n",
       "      <td>0.850568</td>\n",
       "      <td>2.319789e+08</td>\n",
       "      <td>4.483350e+06</td>\n",
       "    </tr>\n",
       "  </tbody>\n",
       "</table>\n",
       "</div>"
      ],
      "text/plain": [
       "       TeamYear           W          HR         ERA           SO          SB  \\\n",
       "count       888  888.000000  888.000000  888.000000   888.000000  888.000000   \n",
       "unique      888         NaN         NaN         NaN          NaN         NaN   \n",
       "top     CHN1987         NaN         NaN         NaN          NaN         NaN   \n",
       "freq          1         NaN         NaN         NaN          NaN         NaN   \n",
       "mean        NaN   79.911036  157.081081    4.206599  1036.444820  104.930180   \n",
       "std         NaN   11.881886   36.965357    0.560479   153.897304   36.623248   \n",
       "min         NaN   43.000000   58.000000    2.910000   568.000000   25.000000   \n",
       "25%         NaN   71.750000  129.000000    3.790000   926.000000   78.000000   \n",
       "50%         NaN   80.000000  156.000000    4.170000  1035.500000  101.000000   \n",
       "75%         NaN   89.000000  181.000000    4.580000  1133.250000  127.000000   \n",
       "max         NaN  116.000000  264.000000    6.380000  1535.000000  314.000000   \n",
       "\n",
       "               HRA          SOA        WHIP           E         OBP  \\\n",
       "count   888.000000   888.000000  888.000000  888.000000  888.000000   \n",
       "unique         NaN          NaN         NaN         NaN         NaN   \n",
       "top            NaN          NaN         NaN         NaN         NaN   \n",
       "freq           NaN          NaN         NaN         NaN         NaN   \n",
       "mean    157.081081  1036.440315    1.372083  109.422297    0.328507   \n",
       "std      30.320724   153.879185    0.095039   20.016584    0.014525   \n",
       "min      76.000000   560.000000    1.144647   54.000000    0.292066   \n",
       "25%     135.000000   930.750000    1.302332   95.000000    0.319020   \n",
       "50%     158.000000  1034.000000    1.367042  108.000000    0.327477   \n",
       "75%     177.000000  1143.000000    1.438273  123.000000    0.338110   \n",
       "max     241.000000  1450.000000    1.733939  179.000000    0.373118   \n",
       "\n",
       "               SLG         OPS        Salary    attendance  \n",
       "count   888.000000  888.000000  8.880000e+02  8.880000e+02  \n",
       "unique         NaN         NaN           NaN           NaN  \n",
       "top            NaN         NaN           NaN           NaN  \n",
       "freq           NaN         NaN           NaN           NaN  \n",
       "mean      0.409492    0.737999  5.784797e+07  2.291292e+06  \n",
       "std       0.029108    0.041427  4.147943e+07  7.212411e+05  \n",
       "min       0.326515    0.627195  8.800000e+05  6.427450e+05  \n",
       "25%       0.389673    0.708770  2.437550e+07  1.754821e+06  \n",
       "50%       0.407916    0.736323  4.879828e+07  2.237177e+06  \n",
       "75%       0.429418    0.766015  8.166700e+07  2.811744e+06  \n",
       "max       0.490900    0.850568  2.319789e+08  4.483350e+06  "
      ]
     },
     "execution_count": 17,
     "metadata": {},
     "output_type": "execute_result"
    }
   ],
   "source": [
    "analysis.describe(include='all')"
   ]
  },
  {
   "cell_type": "code",
   "execution_count": 18,
   "metadata": {},
   "outputs": [
    {
     "data": {
      "text/plain": [
       "<matplotlib.axes._subplots.AxesSubplot at 0xc71f3c8>"
      ]
     },
     "execution_count": 18,
     "metadata": {},
     "output_type": "execute_result"
    },
    {
     "data": {
      "image/png": "[encoded data removed]",
      "text/plain": [
       "<matplotlib.figure.Figure at 0xc71fc50>"
      ]
     },
     "metadata": {},
     "output_type": "display_data"
    }
   ],
   "source": [
    "analysis.W.hist()"
   ]
  },
  {
   "cell_type": "code",
   "execution_count": 19,
   "metadata": {},
   "outputs": [
    {
     "data": {
      "image/png": "[encoded data removed]",
      "text/plain": [
       "<matplotlib.figure.Figure at 0xccdb198>"
      ]
     },
     "metadata": {},
     "output_type": "display_data"
    }
   ],
   "source": [
    "sns.heatmap(analysis.corr());"
   ]
  },
  {
   "cell_type": "code",
   "execution_count": 20,
   "metadata": {},
   "outputs": [
    {
     "data": {
      "text/plain": [
       "<matplotlib.axes._subplots.AxesSubplot at 0xd514940>"
      ]
     },
     "execution_count": 20,
     "metadata": {},
     "output_type": "execute_result"
    },
    {
     "data": {
      "image/png": "[encoded data removed]",
      "text/plain": [
       "<matplotlib.figure.Figure at 0xd54fda0>"
      ]
     },
     "metadata": {},
     "output_type": "display_data"
    }
   ],
   "source": [
    "sns.regplot(analysis['WHIP'],analysis['W'])"
   ]
  },
  {
   "cell_type": "code",
   "execution_count": 21,
   "metadata": {},
   "outputs": [
    {
     "data": {
      "text/plain": [
       "<matplotlib.axes._subplots.AxesSubplot at 0xd868940>"
      ]
     },
     "execution_count": 21,
     "metadata": {},
     "output_type": "execute_result"
    },
    {
     "data": {
      "image/png": "[encoded data removed]",
      "text/plain": [
       "<matplotlib.figure.Figure at 0xd9ab198>"
      ]
     },
     "metadata": {},
     "output_type": "display_data"
    }
   ],
   "source": [
    "sns.regplot(analysis['OPS'],analysis['W'])"
   ]
  },
  {
   "cell_type": "code",
   "execution_count": 22,
   "metadata": {},
   "outputs": [
    {
     "data": {
      "text/plain": [
       "<matplotlib.axes._subplots.AxesSubplot at 0xda610b8>"
      ]
     },
     "execution_count": 22,
     "metadata": {},
     "output_type": "execute_result"
    },
    {
     "data": {
      "image/png": "[encoded data removed]",
      "text/plain": [
       "<matplotlib.figure.Figure at 0xdb43588>"
      ]
     },
     "metadata": {},
     "output_type": "display_data"
    }
   ],
   "source": [
    "sns.regplot(analysis['ERA'],analysis['W'])"
   ]
  },
  {
   "cell_type": "code",
   "execution_count": 23,
   "metadata": {},
   "outputs": [
    {
     "data": {
      "text/plain": [
       "<matplotlib.axes._subplots.AxesSubplot at 0xdc1db00>"
      ]
     },
     "execution_count": 23,
     "metadata": {},
     "output_type": "execute_result"
    },
    {
     "data": {
      "image/png": "[encoded data removed]",
      "text/plain": [
       "<matplotlib.figure.Figure at 0xdd2f550>"
      ]
     },
     "metadata": {},
     "output_type": "display_data"
    }
   ],
   "source": [
    "sns.regplot(analysis['HR'],analysis['W'])"
   ]
  },
  {
   "cell_type": "code",
   "execution_count": 24,
   "metadata": {},
   "outputs": [
    {
     "data": {
      "text/plain": [
       "<matplotlib.axes._subplots.AxesSubplot at 0xde582e8>"
      ]
     },
     "execution_count": 24,
     "metadata": {},
     "output_type": "execute_result"
    },
    {
     "data": {
      "image/png": "[encoded data removed]",
      "text/plain": [
       "<matplotlib.figure.Figure at 0xdfc3550>"
      ]
     },
     "metadata": {},
     "output_type": "display_data"
    }
   ],
   "source": [
    "sns.regplot(analysis['SOA'],analysis['W'])"
   ]
  },
  {
   "cell_type": "code",
   "execution_count": 25,
   "metadata": {},
   "outputs": [
    {
     "data": {
      "text/plain": [
       "<matplotlib.axes._subplots.AxesSubplot at 0xe07b9b0>"
      ]
     },
     "execution_count": 25,
     "metadata": {},
     "output_type": "execute_result"
    },
    {
     "data": {
      "image/png": "[encoded data removed]",
      "text/plain": [
       "<matplotlib.figure.Figure at 0xe1e3940>"
      ]
     },
     "metadata": {},
     "output_type": "display_data"
    }
   ],
   "source": [
    "sns.regplot(analysis['Salary'],analysis['W'])"
   ]
  },
  {
   "cell_type": "markdown",
   "metadata": {},
   "source": [
    "## Linear Regression for Predicting Team Wins"
   ]
  },
  {
   "cell_type": "code",
   "execution_count": 26,
   "metadata": {},
   "outputs": [
    {
     "data": {
      "text/plain": [
       "0.23829161769261542"
      ]
     },
     "execution_count": 26,
     "metadata": {},
     "output_type": "execute_result"
    }
   ],
   "source": [
    "#run linear regression\n",
    "\n",
    "# create a list of features\n",
    "feature_cols = ['OPS', 'HR', 'SOA', 'Salary']\n",
    "\n",
    "# create feature matrix (X)\n",
    "X = analysis[feature_cols]\n",
    "# create response vector (y)\n",
    "y = analysis.W\n",
    "\n",
    "from sklearn.model_selection import train_test_split\n",
    "\n",
    "X_train, X_test, y_train, y_test = train_test_split(X, y, random_state=1)\n",
    "\n",
    "#train the model on the training data\n",
    "\n",
    "from sklearn.linear_model import LinearRegression\n",
    "\n",
    "lr = LinearRegression()\n",
    "lr.fit(X_train, y_train)\n",
    "\n",
    "lr.score(X_test, y_test)"
   ]
  },
  {
   "cell_type": "code",
   "execution_count": 32,
   "metadata": {},
   "outputs": [
    {
     "name": "stdout",
     "output_type": "stream",
     "text": [
      "93.0107059864\n",
      "123.03095739\n"
     ]
    }
   ],
   "source": [
    "#Test the model on theyhat = lr.predict(X_test)\n",
    "#sns.jointplot(y_test, yhat) #testing set and check the accuracy\n",
    "from sklearn import metrics\n",
    "\n",
    "print(metrics.mean_squared_error(y_train, lr.predict(X_train)))\n",
    "print(metrics.mean_squared_error(y_test, lr.predict(X_test)))"
   ]
  },
  {
   "cell_type": "code",
   "execution_count": 33,
   "metadata": {},
   "outputs": [
    {
     "name": "stdout",
     "output_type": "stream",
     "text": [
      "~~~~ CROSS VALIDATION each fold ~~~~\n",
      "Model 1\n",
      "MSE: 109.244188736\n",
      "R2: 0.286403280351\n",
      "Model 2\n",
      "MSE: 101.779507152\n",
      "R2: 0.287011590923\n",
      "Model 3\n",
      "MSE: 89.1017652989\n",
      "R2: 0.286975940037\n",
      "Model 4\n",
      "MSE: 107.479491412\n",
      "R2: 0.285236725289\n",
      "Model 5\n",
      "MSE: 99.6336718481\n",
      "R2: 0.286998211436\n",
      "~~~~ SUMMARY OF CROSS VALIDATION ~~~~\n",
      "Mean of MSE for all folds: 101.447724889\n",
      "Mean of R2 for all folds: 0.286525149607\n"
     ]
    }
   ],
   "source": [
    "# create feature matrix (X)\n",
    "X = analysis[feature_cols]\n",
    "# create response vector (y)\n",
    "y = analysis.W\n",
    "\n",
    "from sklearn.model_selection import train_test_split\n",
    "\n",
    "X_train, X_test, y_train, y_test = train_test_split(X, y, random_state=1)\n",
    "\n",
    "#train the model on the training data\n",
    "\n",
    "from sklearn.linear_model import LinearRegression\n",
    "\n",
    "lr = LinearRegression()\n",
    "lr.fit(X_train, y_train)\n",
    "\n",
    "#Train the model with cross-validation\n",
    "from sklearn import model_selection\n",
    "kf = model_selection.KFold(n_splits=5, shuffle=True)\n",
    "\n",
    "mse_values = []\n",
    "scores = []\n",
    "n= 0\n",
    "print \"~~~~ CROSS VALIDATION each fold ~~~~\"\n",
    "for train_index, test_index in kf.split(X, y):\n",
    "    lr = LinearRegression().fit(X.iloc[train_index], y.iloc[train_index])\n",
    "    mse_values.append(metrics.mean_squared_error(y.iloc[test_index], lr.predict(X.iloc[test_index])))\n",
    "    scores.append(lr.score(X, y))\n",
    "    n+=1\n",
    "    print 'Model', n\n",
    "    print 'MSE:', mse_values[n-1]\n",
    "    print 'R2:', scores[n-1]\n",
    "\n",
    "\n",
    "print \"~~~~ SUMMARY OF CROSS VALIDATION ~~~~\"\n",
    "print 'Mean of MSE for all folds:', np.mean(mse_values)\n",
    "print 'Mean of R2 for all folds:', np.mean(scores)"
   ]
  },
  {
   "cell_type": "code",
   "execution_count": 34,
   "metadata": {},
   "outputs": [
    {
     "data": {
      "text/plain": [
       "<matplotlib.axes._subplots.AxesSubplot at 0xcca2e48>"
      ]
     },
     "execution_count": 34,
     "metadata": {},
     "output_type": "execute_result"
    },
    {
     "data": {
      "image/png": "[encoded data removed]",
      "text/plain": [
       "<matplotlib.figure.Figure at 0x61c8668>"
      ]
     },
     "metadata": {},
     "output_type": "display_data"
    }
   ],
   "source": [
    "sns.regplot(analysis['SB'],analysis['W'])"
   ]
  },
  {
   "cell_type": "code",
   "execution_count": 35,
   "metadata": {},
   "outputs": [
    {
     "data": {
      "text/plain": [
       "<matplotlib.axes._subplots.AxesSubplot at 0xd7366d8>"
      ]
     },
     "execution_count": 35,
     "metadata": {},
     "output_type": "execute_result"
    },
    {
     "data": {
      "image/png": "[encoded data removed]",
      "text/plain": [
       "<matplotlib.figure.Figure at 0xece3a20>"
      ]
     },
     "metadata": {},
     "output_type": "display_data"
    }
   ],
   "source": [
    "sns.regplot(analysis['E'],analysis['W'])"
   ]
  },
  {
   "cell_type": "code",
   "execution_count": 59,
   "metadata": {},
   "outputs": [
    {
     "name": "stdout",
     "output_type": "stream",
     "text": [
      "~~~~ CROSS VALIDATION each fold ~~~~\n",
      "Model 1\n",
      "MSE: 46.3858519993\n",
      "R2: 0.696765794246\n",
      "Model 2\n",
      "MSE: 41.5120736515\n",
      "R2: 0.696969515302\n",
      "Model 3\n",
      "MSE: 39.8276702229\n",
      "R2: 0.697247124183\n",
      "Model 4\n",
      "MSE: 45.0881844393\n",
      "R2: 0.696932384682\n",
      "Model 5\n",
      "MSE: 44.4164893933\n",
      "R2: 0.697431379317\n",
      "~~~~ SUMMARY OF CROSS VALIDATION ~~~~\n",
      "Mean of MSE for all folds: 43.4460539413\n",
      "Mean of R2 for all folds: 0.697069239546\n"
     ]
    }
   ],
   "source": [
    "# create a list of features\n",
    "feature_cols = ['WHIP', 'OPS', 'SB', 'SOA', 'E']\n",
    "\n",
    "# create feature matrix (X)\n",
    "X1 = analysis[feature_cols]\n",
    "# create response vector (y)\n",
    "y1 = analysis.W\n",
    "\n",
    "from sklearn.model_selection import train_test_split\n",
    "\n",
    "X_train, X_test, y_train, y_test = train_test_split(X1, y1, random_state=1)\n",
    "\n",
    "#train the model on the training data\n",
    "\n",
    "from sklearn.linear_model import LinearRegression\n",
    "\n",
    "lr = LinearRegression()\n",
    "lr.fit(X_train, y_train)\n",
    "\n",
    "#Train the model with cross-validation\n",
    "from sklearn import model_selection\n",
    "kf = model_selection.KFold(n_splits=5, shuffle=True)\n",
    "\n",
    "mse_values = []\n",
    "scores = []\n",
    "n= 0\n",
    "print \"~~~~ CROSS VALIDATION each fold ~~~~\"\n",
    "for train_index, test_index in kf.split(X1, y1):\n",
    "    lr = LinearRegression().fit(X1.iloc[train_index], y1.iloc[train_index])\n",
    "    mse_values.append(metrics.mean_squared_error(y1.iloc[test_index], lr.predict(X1.iloc[test_index])))\n",
    "    scores.append(lr.score(X1, y1))\n",
    "    n+=1\n",
    "    print 'Model', n\n",
    "    print 'MSE:', mse_values[n-1]\n",
    "    print 'R2:', scores[n-1]\n",
    "\n",
    "\n",
    "print \"~~~~ SUMMARY OF CROSS VALIDATION ~~~~\"\n",
    "print 'Mean of MSE for all folds:', np.mean(mse_values)\n",
    "print 'Mean of R2 for all folds:', np.mean(scores)"
   ]
  },
  {
   "cell_type": "code",
   "execution_count": 37,
   "metadata": {
    "collapsed": true
   },
   "outputs": [],
   "source": [
    "#the model explains 70% of the variability of the response data around its mean"
   ]
  },
  {
   "cell_type": "markdown",
   "metadata": {},
   "source": [
    "## KNN Model Predicting Playoff Teams"
   ]
  },
  {
   "cell_type": "code",
   "execution_count": 38,
   "metadata": {},
   "outputs": [
    {
     "name": "stdout",
     "output_type": "stream",
     "text": [
      "<class 'pandas.core.frame.DataFrame'>\n",
      "Int64Index: 888 entries, 0 to 887\n",
      "Data columns (total 17 columns):\n",
      "TeamYear      888 non-null object\n",
      "W             888 non-null int64\n",
      "HR            888 non-null int64\n",
      "ERA           888 non-null float64\n",
      "SO            888 non-null float64\n",
      "SB            888 non-null float64\n",
      "HRA           888 non-null int64\n",
      "SOA           888 non-null int64\n",
      "WHIP          888 non-null float64\n",
      "E             888 non-null int64\n",
      "OBP           888 non-null float64\n",
      "SLG           888 non-null float64\n",
      "OPS           888 non-null float64\n",
      "Salary        888 non-null int64\n",
      "attendance    888 non-null float64\n",
      "DivWin        860 non-null object\n",
      "WCWin         624 non-null object\n",
      "dtypes: float64(8), int64(6), object(3)\n",
      "memory usage: 164.9+ KB\n"
     ]
    }
   ],
   "source": [
    "analysis['DivWin']= team_stats['DivWin']\n",
    "analysis['WCWin']= team_stats['WCWin']\n",
    "analysis.info()"
   ]
  },
  {
   "cell_type": "code",
   "execution_count": 39,
   "metadata": {},
   "outputs": [
    {
     "name": "stdout",
     "output_type": "stream",
     "text": [
      "<class 'pandas.core.frame.DataFrame'>\n",
      "Int64Index: 888 entries, 0 to 887\n",
      "Data columns (total 17 columns):\n",
      "TeamYear      888 non-null object\n",
      "W             888 non-null int64\n",
      "HR            888 non-null int64\n",
      "ERA           888 non-null float64\n",
      "SO            888 non-null float64\n",
      "SB            888 non-null float64\n",
      "HRA           888 non-null int64\n",
      "SOA           888 non-null int64\n",
      "WHIP          888 non-null float64\n",
      "E             888 non-null int64\n",
      "OBP           888 non-null float64\n",
      "SLG           888 non-null float64\n",
      "OPS           888 non-null float64\n",
      "Salary        888 non-null int64\n",
      "attendance    888 non-null float64\n",
      "DivWin        888 non-null object\n",
      "WCWin         888 non-null object\n",
      "dtypes: float64(8), int64(6), object(3)\n",
      "memory usage: 164.9+ KB\n"
     ]
    }
   ],
   "source": [
    "analysis[['DivWin', 'WCWin']] = analysis[['DivWin', 'WCWin']].fillna(value='N')\n",
    "analysis.info()"
   ]
  },
  {
   "cell_type": "code",
   "execution_count": 40,
   "metadata": {
    "collapsed": true
   },
   "outputs": [],
   "source": [
    "analysis[\"DWCount\"] = analysis.DivWin.map({'N':0, 'Y':1})\n",
    "analysis[\"WCCount\"] = analysis.WCWin.map({'N':0, 'Y':1})"
   ]
  },
  {
   "cell_type": "code",
   "execution_count": 41,
   "metadata": {
    "collapsed": true
   },
   "outputs": [],
   "source": [
    "analysis['playoffs'] = analysis['DWCount'] + analysis['WCCount']\n"
   ]
  },
  {
   "cell_type": "code",
   "execution_count": 42,
   "metadata": {},
   "outputs": [
    {
     "name": "stdout",
     "output_type": "stream",
     "text": [
      "<class 'pandas.core.frame.DataFrame'>\n",
      "Int64Index: 888 entries, 0 to 887\n",
      "Data columns (total 20 columns):\n",
      "TeamYear      888 non-null object\n",
      "W             888 non-null int64\n",
      "HR            888 non-null int64\n",
      "ERA           888 non-null float64\n",
      "SO            888 non-null float64\n",
      "SB            888 non-null float64\n",
      "HRA           888 non-null int64\n",
      "SOA           888 non-null int64\n",
      "WHIP          888 non-null float64\n",
      "E             888 non-null int64\n",
      "OBP           888 non-null float64\n",
      "SLG           888 non-null float64\n",
      "OPS           888 non-null float64\n",
      "Salary        888 non-null int64\n",
      "attendance    888 non-null float64\n",
      "DivWin        888 non-null object\n",
      "WCWin         888 non-null object\n",
      "DWCount       888 non-null int64\n",
      "WCCount       888 non-null int64\n",
      "playoffs      888 non-null int64\n",
      "dtypes: float64(8), int64(9), object(3)\n",
      "memory usage: 185.7+ KB\n"
     ]
    }
   ],
   "source": [
    "analysis.info()"
   ]
  },
  {
   "cell_type": "code",
   "execution_count": 43,
   "metadata": {},
   "outputs": [
    {
     "data": {
      "text/html": [
       "<div>\n",
       "<style>\n",
       "    .dataframe thead tr:only-child th {\n",
       "        text-align: right;\n",
       "    }\n",
       "\n",
       "    .dataframe thead th {\n",
       "        text-align: left;\n",
       "    }\n",
       "\n",
       "    .dataframe tbody tr th {\n",
       "        vertical-align: top;\n",
       "    }\n",
       "</style>\n",
       "<table border=\"1\" class=\"dataframe\">\n",
       "  <thead>\n",
       "    <tr style=\"text-align: right;\">\n",
       "      <th></th>\n",
       "      <th>TeamYear</th>\n",
       "      <th>W</th>\n",
       "      <th>HR</th>\n",
       "      <th>ERA</th>\n",
       "      <th>SO</th>\n",
       "      <th>SB</th>\n",
       "      <th>HRA</th>\n",
       "      <th>SOA</th>\n",
       "      <th>WHIP</th>\n",
       "      <th>E</th>\n",
       "      <th>OBP</th>\n",
       "      <th>SLG</th>\n",
       "      <th>OPS</th>\n",
       "      <th>Salary</th>\n",
       "      <th>attendance</th>\n",
       "      <th>DivWin</th>\n",
       "      <th>WCWin</th>\n",
       "      <th>DWCount</th>\n",
       "      <th>WCCount</th>\n",
       "      <th>playoffs</th>\n",
       "    </tr>\n",
       "  </thead>\n",
       "  <tbody>\n",
       "    <tr>\n",
       "      <th>858</th>\n",
       "      <td>KCA2015</td>\n",
       "      <td>95</td>\n",
       "      <td>139</td>\n",
       "      <td>3.73</td>\n",
       "      <td>973.0</td>\n",
       "      <td>104.0</td>\n",
       "      <td>155</td>\n",
       "      <td>1160</td>\n",
       "      <td>1.281680</td>\n",
       "      <td>88</td>\n",
       "      <td>0.321769</td>\n",
       "      <td>0.412197</td>\n",
       "      <td>0.733966</td>\n",
       "      <td>112107025</td>\n",
       "      <td>2708549.0</td>\n",
       "      <td>Y</td>\n",
       "      <td>N</td>\n",
       "      <td>1</td>\n",
       "      <td>0</td>\n",
       "      <td>1</td>\n",
       "    </tr>\n",
       "    <tr>\n",
       "      <th>859</th>\n",
       "      <td>MIN2015</td>\n",
       "      <td>83</td>\n",
       "      <td>156</td>\n",
       "      <td>4.07</td>\n",
       "      <td>1264.0</td>\n",
       "      <td>70.0</td>\n",
       "      <td>163</td>\n",
       "      <td>1046</td>\n",
       "      <td>1.329868</td>\n",
       "      <td>86</td>\n",
       "      <td>0.305328</td>\n",
       "      <td>0.399122</td>\n",
       "      <td>0.704450</td>\n",
       "      <td>107755000</td>\n",
       "      <td>2220054.0</td>\n",
       "      <td>N</td>\n",
       "      <td>N</td>\n",
       "      <td>0</td>\n",
       "      <td>0</td>\n",
       "      <td>0</td>\n",
       "    </tr>\n",
       "    <tr>\n",
       "      <th>860</th>\n",
       "      <td>CLE2015</td>\n",
       "      <td>81</td>\n",
       "      <td>141</td>\n",
       "      <td>3.67</td>\n",
       "      <td>1157.0</td>\n",
       "      <td>86.0</td>\n",
       "      <td>161</td>\n",
       "      <td>1407</td>\n",
       "      <td>1.185900</td>\n",
       "      <td>79</td>\n",
       "      <td>0.324534</td>\n",
       "      <td>0.400625</td>\n",
       "      <td>0.725159</td>\n",
       "      <td>87663766</td>\n",
       "      <td>1388905.0</td>\n",
       "      <td>N</td>\n",
       "      <td>N</td>\n",
       "      <td>0</td>\n",
       "      <td>0</td>\n",
       "      <td>0</td>\n",
       "    </tr>\n",
       "    <tr>\n",
       "      <th>861</th>\n",
       "      <td>CHA2015</td>\n",
       "      <td>76</td>\n",
       "      <td>136</td>\n",
       "      <td>3.98</td>\n",
       "      <td>1231.0</td>\n",
       "      <td>68.0</td>\n",
       "      <td>162</td>\n",
       "      <td>1359</td>\n",
       "      <td>1.319642</td>\n",
       "      <td>101</td>\n",
       "      <td>0.306342</td>\n",
       "      <td>0.380083</td>\n",
       "      <td>0.686425</td>\n",
       "      <td>112373700</td>\n",
       "      <td>1755810.0</td>\n",
       "      <td>N</td>\n",
       "      <td>N</td>\n",
       "      <td>0</td>\n",
       "      <td>0</td>\n",
       "      <td>0</td>\n",
       "    </tr>\n",
       "    <tr>\n",
       "      <th>862</th>\n",
       "      <td>DET2015</td>\n",
       "      <td>74</td>\n",
       "      <td>151</td>\n",
       "      <td>4.64</td>\n",
       "      <td>1259.0</td>\n",
       "      <td>83.0</td>\n",
       "      <td>193</td>\n",
       "      <td>1100</td>\n",
       "      <td>1.368348</td>\n",
       "      <td>86</td>\n",
       "      <td>0.327738</td>\n",
       "      <td>0.420161</td>\n",
       "      <td>0.747899</td>\n",
       "      <td>172284750</td>\n",
       "      <td>2726048.0</td>\n",
       "      <td>N</td>\n",
       "      <td>N</td>\n",
       "      <td>0</td>\n",
       "      <td>0</td>\n",
       "      <td>0</td>\n",
       "    </tr>\n",
       "    <tr>\n",
       "      <th>863</th>\n",
       "      <td>TOR2015</td>\n",
       "      <td>93</td>\n",
       "      <td>232</td>\n",
       "      <td>3.80</td>\n",
       "      <td>1151.0</td>\n",
       "      <td>88.0</td>\n",
       "      <td>173</td>\n",
       "      <td>1117</td>\n",
       "      <td>1.214434</td>\n",
       "      <td>88</td>\n",
       "      <td>0.339629</td>\n",
       "      <td>0.457070</td>\n",
       "      <td>0.796699</td>\n",
       "      <td>112992400</td>\n",
       "      <td>2794891.0</td>\n",
       "      <td>Y</td>\n",
       "      <td>N</td>\n",
       "      <td>1</td>\n",
       "      <td>0</td>\n",
       "      <td>1</td>\n",
       "    </tr>\n",
       "    <tr>\n",
       "      <th>864</th>\n",
       "      <td>NYA2015</td>\n",
       "      <td>87</td>\n",
       "      <td>212</td>\n",
       "      <td>4.03</td>\n",
       "      <td>1227.0</td>\n",
       "      <td>63.0</td>\n",
       "      <td>182</td>\n",
       "      <td>1370</td>\n",
       "      <td>1.296593</td>\n",
       "      <td>93</td>\n",
       "      <td>0.322860</td>\n",
       "      <td>0.420873</td>\n",
       "      <td>0.743733</td>\n",
       "      <td>212751957</td>\n",
       "      <td>3193795.0</td>\n",
       "      <td>N</td>\n",
       "      <td>Y</td>\n",
       "      <td>0</td>\n",
       "      <td>1</td>\n",
       "      <td>1</td>\n",
       "    </tr>\n",
       "    <tr>\n",
       "      <th>865</th>\n",
       "      <td>BAL2015</td>\n",
       "      <td>81</td>\n",
       "      <td>217</td>\n",
       "      <td>4.05</td>\n",
       "      <td>1331.0</td>\n",
       "      <td>44.0</td>\n",
       "      <td>174</td>\n",
       "      <td>1233</td>\n",
       "      <td>1.316682</td>\n",
       "      <td>77</td>\n",
       "      <td>0.307217</td>\n",
       "      <td>0.420602</td>\n",
       "      <td>0.727818</td>\n",
       "      <td>115044833</td>\n",
       "      <td>2281202.0</td>\n",
       "      <td>N</td>\n",
       "      <td>N</td>\n",
       "      <td>0</td>\n",
       "      <td>0</td>\n",
       "      <td>0</td>\n",
       "    </tr>\n",
       "    <tr>\n",
       "      <th>866</th>\n",
       "      <td>TBA2015</td>\n",
       "      <td>80</td>\n",
       "      <td>167</td>\n",
       "      <td>3.74</td>\n",
       "      <td>1310.0</td>\n",
       "      <td>87.0</td>\n",
       "      <td>175</td>\n",
       "      <td>1355</td>\n",
       "      <td>1.232339</td>\n",
       "      <td>95</td>\n",
       "      <td>0.314442</td>\n",
       "      <td>0.405834</td>\n",
       "      <td>0.720276</td>\n",
       "      <td>64521233</td>\n",
       "      <td>1287054.0</td>\n",
       "      <td>N</td>\n",
       "      <td>N</td>\n",
       "      <td>0</td>\n",
       "      <td>0</td>\n",
       "      <td>0</td>\n",
       "    </tr>\n",
       "    <tr>\n",
       "      <th>867</th>\n",
       "      <td>BOS2015</td>\n",
       "      <td>78</td>\n",
       "      <td>161</td>\n",
       "      <td>4.31</td>\n",
       "      <td>1148.0</td>\n",
       "      <td>71.0</td>\n",
       "      <td>178</td>\n",
       "      <td>1218</td>\n",
       "      <td>1.356041</td>\n",
       "      <td>97</td>\n",
       "      <td>0.325330</td>\n",
       "      <td>0.414539</td>\n",
       "      <td>0.739869</td>\n",
       "      <td>181103400</td>\n",
       "      <td>2880694.0</td>\n",
       "      <td>N</td>\n",
       "      <td>N</td>\n",
       "      <td>0</td>\n",
       "      <td>0</td>\n",
       "      <td>0</td>\n",
       "    </tr>\n",
       "    <tr>\n",
       "      <th>868</th>\n",
       "      <td>TEX2015</td>\n",
       "      <td>88</td>\n",
       "      <td>172</td>\n",
       "      <td>4.24</td>\n",
       "      <td>1233.0</td>\n",
       "      <td>101.0</td>\n",
       "      <td>171</td>\n",
       "      <td>1095</td>\n",
       "      <td>1.363447</td>\n",
       "      <td>119</td>\n",
       "      <td>0.325195</td>\n",
       "      <td>0.413355</td>\n",
       "      <td>0.738550</td>\n",
       "      <td>143742789</td>\n",
       "      <td>2491875.0</td>\n",
       "      <td>Y</td>\n",
       "      <td>N</td>\n",
       "      <td>1</td>\n",
       "      <td>0</td>\n",
       "      <td>1</td>\n",
       "    </tr>\n",
       "    <tr>\n",
       "      <th>869</th>\n",
       "      <td>HOU2015</td>\n",
       "      <td>86</td>\n",
       "      <td>230</td>\n",
       "      <td>3.57</td>\n",
       "      <td>1392.0</td>\n",
       "      <td>121.0</td>\n",
       "      <td>148</td>\n",
       "      <td>1280</td>\n",
       "      <td>1.201249</td>\n",
       "      <td>85</td>\n",
       "      <td>0.315189</td>\n",
       "      <td>0.436527</td>\n",
       "      <td>0.751715</td>\n",
       "      <td>72256200</td>\n",
       "      <td>2153585.0</td>\n",
       "      <td>N</td>\n",
       "      <td>Y</td>\n",
       "      <td>0</td>\n",
       "      <td>1</td>\n",
       "      <td>1</td>\n",
       "    </tr>\n",
       "    <tr>\n",
       "      <th>870</th>\n",
       "      <td>LAA2015</td>\n",
       "      <td>85</td>\n",
       "      <td>176</td>\n",
       "      <td>3.94</td>\n",
       "      <td>1150.0</td>\n",
       "      <td>52.0</td>\n",
       "      <td>166</td>\n",
       "      <td>1221</td>\n",
       "      <td>1.263998</td>\n",
       "      <td>93</td>\n",
       "      <td>0.306555</td>\n",
       "      <td>0.395791</td>\n",
       "      <td>0.702346</td>\n",
       "      <td>120005415</td>\n",
       "      <td>3012765.0</td>\n",
       "      <td>N</td>\n",
       "      <td>N</td>\n",
       "      <td>0</td>\n",
       "      <td>0</td>\n",
       "      <td>0</td>\n",
       "    </tr>\n",
       "    <tr>\n",
       "      <th>871</th>\n",
       "      <td>SEA2015</td>\n",
       "      <td>76</td>\n",
       "      <td>198</td>\n",
       "      <td>4.16</td>\n",
       "      <td>1336.0</td>\n",
       "      <td>69.0</td>\n",
       "      <td>181</td>\n",
       "      <td>1283</td>\n",
       "      <td>1.313055</td>\n",
       "      <td>94</td>\n",
       "      <td>0.310684</td>\n",
       "      <td>0.411075</td>\n",
       "      <td>0.721759</td>\n",
       "      <td>122208700</td>\n",
       "      <td>2193581.0</td>\n",
       "      <td>N</td>\n",
       "      <td>N</td>\n",
       "      <td>0</td>\n",
       "      <td>0</td>\n",
       "      <td>0</td>\n",
       "    </tr>\n",
       "    <tr>\n",
       "      <th>872</th>\n",
       "      <td>OAK2015</td>\n",
       "      <td>68</td>\n",
       "      <td>146</td>\n",
       "      <td>4.14</td>\n",
       "      <td>1119.0</td>\n",
       "      <td>78.0</td>\n",
       "      <td>172</td>\n",
       "      <td>1179</td>\n",
       "      <td>1.298569</td>\n",
       "      <td>126</td>\n",
       "      <td>0.312043</td>\n",
       "      <td>0.395000</td>\n",
       "      <td>0.707043</td>\n",
       "      <td>79053501</td>\n",
       "      <td>1768175.0</td>\n",
       "      <td>N</td>\n",
       "      <td>N</td>\n",
       "      <td>0</td>\n",
       "      <td>0</td>\n",
       "      <td>0</td>\n",
       "    </tr>\n",
       "    <tr>\n",
       "      <th>873</th>\n",
       "      <td>SLN2015</td>\n",
       "      <td>100</td>\n",
       "      <td>137</td>\n",
       "      <td>2.94</td>\n",
       "      <td>1267.0</td>\n",
       "      <td>69.0</td>\n",
       "      <td>123</td>\n",
       "      <td>1329</td>\n",
       "      <td>1.253528</td>\n",
       "      <td>96</td>\n",
       "      <td>0.321089</td>\n",
       "      <td>0.394420</td>\n",
       "      <td>0.715509</td>\n",
       "      <td>119241500</td>\n",
       "      <td>3520889.0</td>\n",
       "      <td>Y</td>\n",
       "      <td>N</td>\n",
       "      <td>1</td>\n",
       "      <td>0</td>\n",
       "      <td>1</td>\n",
       "    </tr>\n",
       "    <tr>\n",
       "      <th>874</th>\n",
       "      <td>PIT2015</td>\n",
       "      <td>98</td>\n",
       "      <td>140</td>\n",
       "      <td>3.21</td>\n",
       "      <td>1322.0</td>\n",
       "      <td>98.0</td>\n",
       "      <td>110</td>\n",
       "      <td>1338</td>\n",
       "      <td>1.238532</td>\n",
       "      <td>122</td>\n",
       "      <td>0.323369</td>\n",
       "      <td>0.395667</td>\n",
       "      <td>0.719036</td>\n",
       "      <td>88892499</td>\n",
       "      <td>2498596.0</td>\n",
       "      <td>N</td>\n",
       "      <td>Y</td>\n",
       "      <td>0</td>\n",
       "      <td>1</td>\n",
       "      <td>1</td>\n",
       "    </tr>\n",
       "    <tr>\n",
       "      <th>875</th>\n",
       "      <td>CHN2015</td>\n",
       "      <td>97</td>\n",
       "      <td>171</td>\n",
       "      <td>3.36</td>\n",
       "      <td>1518.0</td>\n",
       "      <td>95.0</td>\n",
       "      <td>134</td>\n",
       "      <td>1431</td>\n",
       "      <td>1.151688</td>\n",
       "      <td>111</td>\n",
       "      <td>0.321388</td>\n",
       "      <td>0.398106</td>\n",
       "      <td>0.719494</td>\n",
       "      <td>115879310</td>\n",
       "      <td>2959812.0</td>\n",
       "      <td>N</td>\n",
       "      <td>Y</td>\n",
       "      <td>0</td>\n",
       "      <td>1</td>\n",
       "      <td>1</td>\n",
       "    </tr>\n",
       "    <tr>\n",
       "      <th>876</th>\n",
       "      <td>MIL2015</td>\n",
       "      <td>68</td>\n",
       "      <td>145</td>\n",
       "      <td>4.28</td>\n",
       "      <td>1299.0</td>\n",
       "      <td>84.0</td>\n",
       "      <td>176</td>\n",
       "      <td>1260</td>\n",
       "      <td>1.358188</td>\n",
       "      <td>116</td>\n",
       "      <td>0.306854</td>\n",
       "      <td>0.393248</td>\n",
       "      <td>0.700103</td>\n",
       "      <td>100850000</td>\n",
       "      <td>2542558.0</td>\n",
       "      <td>N</td>\n",
       "      <td>N</td>\n",
       "      <td>0</td>\n",
       "      <td>0</td>\n",
       "      <td>0</td>\n",
       "    </tr>\n",
       "    <tr>\n",
       "      <th>877</th>\n",
       "      <td>CIN2015</td>\n",
       "      <td>64</td>\n",
       "      <td>167</td>\n",
       "      <td>4.33</td>\n",
       "      <td>1255.0</td>\n",
       "      <td>134.0</td>\n",
       "      <td>177</td>\n",
       "      <td>1252</td>\n",
       "      <td>1.362385</td>\n",
       "      <td>90</td>\n",
       "      <td>0.312246</td>\n",
       "      <td>0.393825</td>\n",
       "      <td>0.706071</td>\n",
       "      <td>113072286</td>\n",
       "      <td>2419506.0</td>\n",
       "      <td>N</td>\n",
       "      <td>N</td>\n",
       "      <td>0</td>\n",
       "      <td>0</td>\n",
       "      <td>0</td>\n",
       "    </tr>\n",
       "    <tr>\n",
       "      <th>878</th>\n",
       "      <td>NYN2015</td>\n",
       "      <td>90</td>\n",
       "      <td>177</td>\n",
       "      <td>3.43</td>\n",
       "      <td>1290.0</td>\n",
       "      <td>51.0</td>\n",
       "      <td>152</td>\n",
       "      <td>1337</td>\n",
       "      <td>1.178669</td>\n",
       "      <td>88</td>\n",
       "      <td>0.311856</td>\n",
       "      <td>0.400036</td>\n",
       "      <td>0.711892</td>\n",
       "      <td>96766683</td>\n",
       "      <td>2569753.0</td>\n",
       "      <td>Y</td>\n",
       "      <td>N</td>\n",
       "      <td>1</td>\n",
       "      <td>0</td>\n",
       "      <td>1</td>\n",
       "    </tr>\n",
       "    <tr>\n",
       "      <th>879</th>\n",
       "      <td>WAS2015</td>\n",
       "      <td>83</td>\n",
       "      <td>177</td>\n",
       "      <td>3.62</td>\n",
       "      <td>1344.0</td>\n",
       "      <td>57.0</td>\n",
       "      <td>145</td>\n",
       "      <td>1342</td>\n",
       "      <td>1.205855</td>\n",
       "      <td>90</td>\n",
       "      <td>0.321016</td>\n",
       "      <td>0.402542</td>\n",
       "      <td>0.723559</td>\n",
       "      <td>155587472</td>\n",
       "      <td>2619843.0</td>\n",
       "      <td>N</td>\n",
       "      <td>N</td>\n",
       "      <td>0</td>\n",
       "      <td>0</td>\n",
       "      <td>0</td>\n",
       "    </tr>\n",
       "    <tr>\n",
       "      <th>880</th>\n",
       "      <td>MIA2015</td>\n",
       "      <td>71</td>\n",
       "      <td>120</td>\n",
       "      <td>4.02</td>\n",
       "      <td>1150.0</td>\n",
       "      <td>112.0</td>\n",
       "      <td>141</td>\n",
       "      <td>1152</td>\n",
       "      <td>1.318851</td>\n",
       "      <td>77</td>\n",
       "      <td>0.309954</td>\n",
       "      <td>0.383672</td>\n",
       "      <td>0.693626</td>\n",
       "      <td>68056500</td>\n",
       "      <td>1752235.0</td>\n",
       "      <td>N</td>\n",
       "      <td>N</td>\n",
       "      <td>0</td>\n",
       "      <td>0</td>\n",
       "      <td>0</td>\n",
       "    </tr>\n",
       "    <tr>\n",
       "      <th>881</th>\n",
       "      <td>ATL2015</td>\n",
       "      <td>67</td>\n",
       "      <td>100</td>\n",
       "      <td>4.41</td>\n",
       "      <td>1107.0</td>\n",
       "      <td>69.0</td>\n",
       "      <td>170</td>\n",
       "      <td>1148</td>\n",
       "      <td>1.411600</td>\n",
       "      <td>90</td>\n",
       "      <td>0.314449</td>\n",
       "      <td>0.359410</td>\n",
       "      <td>0.673858</td>\n",
       "      <td>71781250</td>\n",
       "      <td>2001392.0</td>\n",
       "      <td>N</td>\n",
       "      <td>N</td>\n",
       "      <td>0</td>\n",
       "      <td>0</td>\n",
       "      <td>0</td>\n",
       "    </tr>\n",
       "    <tr>\n",
       "      <th>882</th>\n",
       "      <td>PHI2015</td>\n",
       "      <td>63</td>\n",
       "      <td>130</td>\n",
       "      <td>4.69</td>\n",
       "      <td>1274.0</td>\n",
       "      <td>88.0</td>\n",
       "      <td>191</td>\n",
       "      <td>1153</td>\n",
       "      <td>1.448132</td>\n",
       "      <td>117</td>\n",
       "      <td>0.302550</td>\n",
       "      <td>0.381624</td>\n",
       "      <td>0.684175</td>\n",
       "      <td>111693000</td>\n",
       "      <td>1831080.0</td>\n",
       "      <td>N</td>\n",
       "      <td>N</td>\n",
       "      <td>0</td>\n",
       "      <td>0</td>\n",
       "      <td>0</td>\n",
       "    </tr>\n",
       "    <tr>\n",
       "      <th>883</th>\n",
       "      <td>LAN2015</td>\n",
       "      <td>92</td>\n",
       "      <td>187</td>\n",
       "      <td>3.44</td>\n",
       "      <td>1258.0</td>\n",
       "      <td>59.0</td>\n",
       "      <td>145</td>\n",
       "      <td>1396</td>\n",
       "      <td>1.184229</td>\n",
       "      <td>75</td>\n",
       "      <td>0.326101</td>\n",
       "      <td>0.412628</td>\n",
       "      <td>0.738729</td>\n",
       "      <td>215792000</td>\n",
       "      <td>3764815.0</td>\n",
       "      <td>Y</td>\n",
       "      <td>N</td>\n",
       "      <td>1</td>\n",
       "      <td>0</td>\n",
       "      <td>1</td>\n",
       "    </tr>\n",
       "    <tr>\n",
       "      <th>884</th>\n",
       "      <td>SFN2015</td>\n",
       "      <td>84</td>\n",
       "      <td>136</td>\n",
       "      <td>3.72</td>\n",
       "      <td>1159.0</td>\n",
       "      <td>93.0</td>\n",
       "      <td>155</td>\n",
       "      <td>1165</td>\n",
       "      <td>1.228941</td>\n",
       "      <td>78</td>\n",
       "      <td>0.326130</td>\n",
       "      <td>0.406110</td>\n",
       "      <td>0.732239</td>\n",
       "      <td>164701500</td>\n",
       "      <td>3375882.0</td>\n",
       "      <td>N</td>\n",
       "      <td>N</td>\n",
       "      <td>0</td>\n",
       "      <td>0</td>\n",
       "      <td>0</td>\n",
       "    </tr>\n",
       "    <tr>\n",
       "      <th>885</th>\n",
       "      <td>ARI2015</td>\n",
       "      <td>79</td>\n",
       "      <td>154</td>\n",
       "      <td>4.04</td>\n",
       "      <td>1312.0</td>\n",
       "      <td>132.0</td>\n",
       "      <td>182</td>\n",
       "      <td>1215</td>\n",
       "      <td>1.329545</td>\n",
       "      <td>86</td>\n",
       "      <td>0.323808</td>\n",
       "      <td>0.414410</td>\n",
       "      <td>0.738218</td>\n",
       "      <td>61834000</td>\n",
       "      <td>2080145.0</td>\n",
       "      <td>N</td>\n",
       "      <td>N</td>\n",
       "      <td>0</td>\n",
       "      <td>0</td>\n",
       "      <td>0</td>\n",
       "    </tr>\n",
       "    <tr>\n",
       "      <th>886</th>\n",
       "      <td>SDN2015</td>\n",
       "      <td>74</td>\n",
       "      <td>148</td>\n",
       "      <td>4.09</td>\n",
       "      <td>1327.0</td>\n",
       "      <td>82.0</td>\n",
       "      <td>171</td>\n",
       "      <td>1393</td>\n",
       "      <td>1.310113</td>\n",
       "      <td>92</td>\n",
       "      <td>0.300084</td>\n",
       "      <td>0.384827</td>\n",
       "      <td>0.684911</td>\n",
       "      <td>118441300</td>\n",
       "      <td>2459742.0</td>\n",
       "      <td>N</td>\n",
       "      <td>N</td>\n",
       "      <td>0</td>\n",
       "      <td>0</td>\n",
       "      <td>0</td>\n",
       "    </tr>\n",
       "    <tr>\n",
       "      <th>887</th>\n",
       "      <td>COL2015</td>\n",
       "      <td>68</td>\n",
       "      <td>186</td>\n",
       "      <td>5.04</td>\n",
       "      <td>1283.0</td>\n",
       "      <td>97.0</td>\n",
       "      <td>183</td>\n",
       "      <td>1112</td>\n",
       "      <td>1.512970</td>\n",
       "      <td>95</td>\n",
       "      <td>0.315248</td>\n",
       "      <td>0.432340</td>\n",
       "      <td>0.747588</td>\n",
       "      <td>95688600</td>\n",
       "      <td>2506789.0</td>\n",
       "      <td>N</td>\n",
       "      <td>N</td>\n",
       "      <td>0</td>\n",
       "      <td>0</td>\n",
       "      <td>0</td>\n",
       "    </tr>\n",
       "  </tbody>\n",
       "</table>\n",
       "</div>"
      ],
      "text/plain": [
       "    TeamYear    W   HR   ERA      SO     SB  HRA   SOA      WHIP    E  \\\n",
       "858  KCA2015   95  139  3.73   973.0  104.0  155  1160  1.281680   88   \n",
       "859  MIN2015   83  156  4.07  1264.0   70.0  163  1046  1.329868   86   \n",
       "860  CLE2015   81  141  3.67  1157.0   86.0  161  1407  1.185900   79   \n",
       "861  CHA2015   76  136  3.98  1231.0   68.0  162  1359  1.319642  101   \n",
       "862  DET2015   74  151  4.64  1259.0   83.0  193  1100  1.368348   86   \n",
       "863  TOR2015   93  232  3.80  1151.0   88.0  173  1117  1.214434   88   \n",
       "864  NYA2015   87  212  4.03  1227.0   63.0  182  1370  1.296593   93   \n",
       "865  BAL2015   81  217  4.05  1331.0   44.0  174  1233  1.316682   77   \n",
       "866  TBA2015   80  167  3.74  1310.0   87.0  175  1355  1.232339   95   \n",
       "867  BOS2015   78  161  4.31  1148.0   71.0  178  1218  1.356041   97   \n",
       "868  TEX2015   88  172  4.24  1233.0  101.0  171  1095  1.363447  119   \n",
       "869  HOU2015   86  230  3.57  1392.0  121.0  148  1280  1.201249   85   \n",
       "870  LAA2015   85  176  3.94  1150.0   52.0  166  1221  1.263998   93   \n",
       "871  SEA2015   76  198  4.16  1336.0   69.0  181  1283  1.313055   94   \n",
       "872  OAK2015   68  146  4.14  1119.0   78.0  172  1179  1.298569  126   \n",
       "873  SLN2015  100  137  2.94  1267.0   69.0  123  1329  1.253528   96   \n",
       "874  PIT2015   98  140  3.21  1322.0   98.0  110  1338  1.238532  122   \n",
       "875  CHN2015   97  171  3.36  1518.0   95.0  134  1431  1.151688  111   \n",
       "876  MIL2015   68  145  4.28  1299.0   84.0  176  1260  1.358188  116   \n",
       "877  CIN2015   64  167  4.33  1255.0  134.0  177  1252  1.362385   90   \n",
       "878  NYN2015   90  177  3.43  1290.0   51.0  152  1337  1.178669   88   \n",
       "879  WAS2015   83  177  3.62  1344.0   57.0  145  1342  1.205855   90   \n",
       "880  MIA2015   71  120  4.02  1150.0  112.0  141  1152  1.318851   77   \n",
       "881  ATL2015   67  100  4.41  1107.0   69.0  170  1148  1.411600   90   \n",
       "882  PHI2015   63  130  4.69  1274.0   88.0  191  1153  1.448132  117   \n",
       "883  LAN2015   92  187  3.44  1258.0   59.0  145  1396  1.184229   75   \n",
       "884  SFN2015   84  136  3.72  1159.0   93.0  155  1165  1.228941   78   \n",
       "885  ARI2015   79  154  4.04  1312.0  132.0  182  1215  1.329545   86   \n",
       "886  SDN2015   74  148  4.09  1327.0   82.0  171  1393  1.310113   92   \n",
       "887  COL2015   68  186  5.04  1283.0   97.0  183  1112  1.512970   95   \n",
       "\n",
       "          OBP       SLG       OPS     Salary  attendance DivWin WCWin  \\\n",
       "858  0.321769  0.412197  0.733966  112107025   2708549.0      Y     N   \n",
       "859  0.305328  0.399122  0.704450  107755000   2220054.0      N     N   \n",
       "860  0.324534  0.400625  0.725159   87663766   1388905.0      N     N   \n",
       "861  0.306342  0.380083  0.686425  112373700   1755810.0      N     N   \n",
       "862  0.327738  0.420161  0.747899  172284750   2726048.0      N     N   \n",
       "863  0.339629  0.457070  0.796699  112992400   2794891.0      Y     N   \n",
       "864  0.322860  0.420873  0.743733  212751957   3193795.0      N     Y   \n",
       "865  0.307217  0.420602  0.727818  115044833   2281202.0      N     N   \n",
       "866  0.314442  0.405834  0.720276   64521233   1287054.0      N     N   \n",
       "867  0.325330  0.414539  0.739869  181103400   2880694.0      N     N   \n",
       "868  0.325195  0.413355  0.738550  143742789   2491875.0      Y     N   \n",
       "869  0.315189  0.436527  0.751715   72256200   2153585.0      N     Y   \n",
       "870  0.306555  0.395791  0.702346  120005415   3012765.0      N     N   \n",
       "871  0.310684  0.411075  0.721759  122208700   2193581.0      N     N   \n",
       "872  0.312043  0.395000  0.707043   79053501   1768175.0      N     N   \n",
       "873  0.321089  0.394420  0.715509  119241500   3520889.0      Y     N   \n",
       "874  0.323369  0.395667  0.719036   88892499   2498596.0      N     Y   \n",
       "875  0.321388  0.398106  0.719494  115879310   2959812.0      N     Y   \n",
       "876  0.306854  0.393248  0.700103  100850000   2542558.0      N     N   \n",
       "877  0.312246  0.393825  0.706071  113072286   2419506.0      N     N   \n",
       "878  0.311856  0.400036  0.711892   96766683   2569753.0      Y     N   \n",
       "879  0.321016  0.402542  0.723559  155587472   2619843.0      N     N   \n",
       "880  0.309954  0.383672  0.693626   68056500   1752235.0      N     N   \n",
       "881  0.314449  0.359410  0.673858   71781250   2001392.0      N     N   \n",
       "882  0.302550  0.381624  0.684175  111693000   1831080.0      N     N   \n",
       "883  0.326101  0.412628  0.738729  215792000   3764815.0      Y     N   \n",
       "884  0.326130  0.406110  0.732239  164701500   3375882.0      N     N   \n",
       "885  0.323808  0.414410  0.738218   61834000   2080145.0      N     N   \n",
       "886  0.300084  0.384827  0.684911  118441300   2459742.0      N     N   \n",
       "887  0.315248  0.432340  0.747588   95688600   2506789.0      N     N   \n",
       "\n",
       "     DWCount  WCCount  playoffs  \n",
       "858        1        0         1  \n",
       "859        0        0         0  \n",
       "860        0        0         0  \n",
       "861        0        0         0  \n",
       "862        0        0         0  \n",
       "863        1        0         1  \n",
       "864        0        1         1  \n",
       "865        0        0         0  \n",
       "866        0        0         0  \n",
       "867        0        0         0  \n",
       "868        1        0         1  \n",
       "869        0        1         1  \n",
       "870        0        0         0  \n",
       "871        0        0         0  \n",
       "872        0        0         0  \n",
       "873        1        0         1  \n",
       "874        0        1         1  \n",
       "875        0        1         1  \n",
       "876        0        0         0  \n",
       "877        0        0         0  \n",
       "878        1        0         1  \n",
       "879        0        0         0  \n",
       "880        0        0         0  \n",
       "881        0        0         0  \n",
       "882        0        0         0  \n",
       "883        1        0         1  \n",
       "884        0        0         0  \n",
       "885        0        0         0  \n",
       "886        0        0         0  \n",
       "887        0        0         0  "
      ]
     },
     "execution_count": 43,
     "metadata": {},
     "output_type": "execute_result"
    }
   ],
   "source": [
    "analysis.tail(30)"
   ]
  },
  {
   "cell_type": "code",
   "execution_count": 44,
   "metadata": {},
   "outputs": [
    {
     "data": {
      "text/html": [
       "<div>\n",
       "<style>\n",
       "    .dataframe thead tr:only-child th {\n",
       "        text-align: right;\n",
       "    }\n",
       "\n",
       "    .dataframe thead th {\n",
       "        text-align: left;\n",
       "    }\n",
       "\n",
       "    .dataframe tbody tr th {\n",
       "        vertical-align: top;\n",
       "    }\n",
       "</style>\n",
       "<table border=\"1\" class=\"dataframe\">\n",
       "  <thead>\n",
       "    <tr style=\"text-align: right;\">\n",
       "      <th></th>\n",
       "      <th>TeamYear</th>\n",
       "      <th>W</th>\n",
       "      <th>HR</th>\n",
       "      <th>ERA</th>\n",
       "      <th>SO</th>\n",
       "      <th>SB</th>\n",
       "      <th>HRA</th>\n",
       "      <th>SOA</th>\n",
       "      <th>WHIP</th>\n",
       "      <th>E</th>\n",
       "      <th>OBP</th>\n",
       "      <th>SLG</th>\n",
       "      <th>OPS</th>\n",
       "      <th>Salary</th>\n",
       "      <th>attendance</th>\n",
       "      <th>playoffs</th>\n",
       "    </tr>\n",
       "  </thead>\n",
       "  <tbody>\n",
       "    <tr>\n",
       "      <th>883</th>\n",
       "      <td>LAN2015</td>\n",
       "      <td>92</td>\n",
       "      <td>187</td>\n",
       "      <td>3.44</td>\n",
       "      <td>1258.0</td>\n",
       "      <td>59.0</td>\n",
       "      <td>145</td>\n",
       "      <td>1396</td>\n",
       "      <td>1.184229</td>\n",
       "      <td>75</td>\n",
       "      <td>0.326101</td>\n",
       "      <td>0.412628</td>\n",
       "      <td>0.738729</td>\n",
       "      <td>215792000</td>\n",
       "      <td>3764815.0</td>\n",
       "      <td>1</td>\n",
       "    </tr>\n",
       "    <tr>\n",
       "      <th>884</th>\n",
       "      <td>SFN2015</td>\n",
       "      <td>84</td>\n",
       "      <td>136</td>\n",
       "      <td>3.72</td>\n",
       "      <td>1159.0</td>\n",
       "      <td>93.0</td>\n",
       "      <td>155</td>\n",
       "      <td>1165</td>\n",
       "      <td>1.228941</td>\n",
       "      <td>78</td>\n",
       "      <td>0.326130</td>\n",
       "      <td>0.406110</td>\n",
       "      <td>0.732239</td>\n",
       "      <td>164701500</td>\n",
       "      <td>3375882.0</td>\n",
       "      <td>0</td>\n",
       "    </tr>\n",
       "    <tr>\n",
       "      <th>885</th>\n",
       "      <td>ARI2015</td>\n",
       "      <td>79</td>\n",
       "      <td>154</td>\n",
       "      <td>4.04</td>\n",
       "      <td>1312.0</td>\n",
       "      <td>132.0</td>\n",
       "      <td>182</td>\n",
       "      <td>1215</td>\n",
       "      <td>1.329545</td>\n",
       "      <td>86</td>\n",
       "      <td>0.323808</td>\n",
       "      <td>0.414410</td>\n",
       "      <td>0.738218</td>\n",
       "      <td>61834000</td>\n",
       "      <td>2080145.0</td>\n",
       "      <td>0</td>\n",
       "    </tr>\n",
       "    <tr>\n",
       "      <th>886</th>\n",
       "      <td>SDN2015</td>\n",
       "      <td>74</td>\n",
       "      <td>148</td>\n",
       "      <td>4.09</td>\n",
       "      <td>1327.0</td>\n",
       "      <td>82.0</td>\n",
       "      <td>171</td>\n",
       "      <td>1393</td>\n",
       "      <td>1.310113</td>\n",
       "      <td>92</td>\n",
       "      <td>0.300084</td>\n",
       "      <td>0.384827</td>\n",
       "      <td>0.684911</td>\n",
       "      <td>118441300</td>\n",
       "      <td>2459742.0</td>\n",
       "      <td>0</td>\n",
       "    </tr>\n",
       "    <tr>\n",
       "      <th>887</th>\n",
       "      <td>COL2015</td>\n",
       "      <td>68</td>\n",
       "      <td>186</td>\n",
       "      <td>5.04</td>\n",
       "      <td>1283.0</td>\n",
       "      <td>97.0</td>\n",
       "      <td>183</td>\n",
       "      <td>1112</td>\n",
       "      <td>1.512970</td>\n",
       "      <td>95</td>\n",
       "      <td>0.315248</td>\n",
       "      <td>0.432340</td>\n",
       "      <td>0.747588</td>\n",
       "      <td>95688600</td>\n",
       "      <td>2506789.0</td>\n",
       "      <td>0</td>\n",
       "    </tr>\n",
       "  </tbody>\n",
       "</table>\n",
       "</div>"
      ],
      "text/plain": [
       "    TeamYear   W   HR   ERA      SO     SB  HRA   SOA      WHIP   E       OBP  \\\n",
       "883  LAN2015  92  187  3.44  1258.0   59.0  145  1396  1.184229  75  0.326101   \n",
       "884  SFN2015  84  136  3.72  1159.0   93.0  155  1165  1.228941  78  0.326130   \n",
       "885  ARI2015  79  154  4.04  1312.0  132.0  182  1215  1.329545  86  0.323808   \n",
       "886  SDN2015  74  148  4.09  1327.0   82.0  171  1393  1.310113  92  0.300084   \n",
       "887  COL2015  68  186  5.04  1283.0   97.0  183  1112  1.512970  95  0.315248   \n",
       "\n",
       "          SLG       OPS     Salary  attendance  playoffs  \n",
       "883  0.412628  0.738729  215792000   3764815.0         1  \n",
       "884  0.406110  0.732239  164701500   3375882.0         0  \n",
       "885  0.414410  0.738218   61834000   2080145.0         0  \n",
       "886  0.384827  0.684911  118441300   2459742.0         0  \n",
       "887  0.432340  0.747588   95688600   2506789.0         0  "
      ]
     },
     "execution_count": 44,
     "metadata": {},
     "output_type": "execute_result"
    }
   ],
   "source": [
    "analysis.drop(['DivWin', 'WCWin', 'DWCount', 'WCCount'], axis=1, inplace=True)\n",
    "analysis.tail()"
   ]
  },
  {
   "cell_type": "code",
   "execution_count": 60,
   "metadata": {},
   "outputs": [
    {
     "data": {
      "text/html": [
       "<div>\n",
       "<style>\n",
       "    .dataframe thead tr:only-child th {\n",
       "        text-align: right;\n",
       "    }\n",
       "\n",
       "    .dataframe thead th {\n",
       "        text-align: left;\n",
       "    }\n",
       "\n",
       "    .dataframe tbody tr th {\n",
       "        vertical-align: top;\n",
       "    }\n",
       "</style>\n",
       "<table border=\"1\" class=\"dataframe\">\n",
       "  <thead>\n",
       "    <tr style=\"text-align: right;\">\n",
       "      <th></th>\n",
       "      <th>WHIP</th>\n",
       "      <th>OPS</th>\n",
       "      <th>SB</th>\n",
       "      <th>SOA</th>\n",
       "      <th>E</th>\n",
       "    </tr>\n",
       "  </thead>\n",
       "  <tbody>\n",
       "    <tr>\n",
       "      <th>0</th>\n",
       "      <td>1.478380</td>\n",
       "      <td>0.677537</td>\n",
       "      <td>72.0</td>\n",
       "      <td>776</td>\n",
       "      <td>159</td>\n",
       "    </tr>\n",
       "    <tr>\n",
       "      <th>1</th>\n",
       "      <td>1.435179</td>\n",
       "      <td>0.765492</td>\n",
       "      <td>69.0</td>\n",
       "      <td>793</td>\n",
       "      <td>115</td>\n",
       "    </tr>\n",
       "    <tr>\n",
       "      <th>2</th>\n",
       "      <td>1.387406</td>\n",
       "      <td>0.775741</td>\n",
       "      <td>66.0</td>\n",
       "      <td>913</td>\n",
       "      <td>145</td>\n",
       "    </tr>\n",
       "    <tr>\n",
       "      <th>3</th>\n",
       "      <td>1.350034</td>\n",
       "      <td>0.716265</td>\n",
       "      <td>106.0</td>\n",
       "      <td>767</td>\n",
       "      <td>112</td>\n",
       "    </tr>\n",
       "    <tr>\n",
       "      <th>4</th>\n",
       "      <td>1.364576</td>\n",
       "      <td>0.704713</td>\n",
       "      <td>108.0</td>\n",
       "      <td>1023</td>\n",
       "      <td>111</td>\n",
       "    </tr>\n",
       "  </tbody>\n",
       "</table>\n",
       "</div>"
      ],
      "text/plain": [
       "       WHIP       OPS     SB   SOA    E\n",
       "0  1.478380  0.677537   72.0   776  159\n",
       "1  1.435179  0.765492   69.0   793  115\n",
       "2  1.387406  0.775741   66.0   913  145\n",
       "3  1.350034  0.716265  106.0   767  112\n",
       "4  1.364576  0.704713  108.0  1023  111"
      ]
     },
     "execution_count": 60,
     "metadata": {},
     "output_type": "execute_result"
    }
   ],
   "source": [
    "#Building a K Nearest Neighbor Classification Model to assess impact of these stats on whether a team will make the playoffs.\n",
    "feature_cols = ['WHIP', 'OPS', 'SB', 'SOA', 'E']\n",
    "X2 = analysis[feature_cols]\n",
    "\n",
    "# create response vector (y)\n",
    "y2 = analysis.playoffs\n",
    "\n",
    "X.head()"
   ]
  },
  {
   "cell_type": "code",
   "execution_count": 61,
   "metadata": {
    "collapsed": true
   },
   "outputs": [],
   "source": [
    "from sklearn.neighbors import KNeighborsClassifier\n",
    "from sklearn.model_selection import train_test_split\n",
    "from sklearn import metrics"
   ]
  },
  {
   "cell_type": "code",
   "execution_count": 62,
   "metadata": {
    "collapsed": true
   },
   "outputs": [],
   "source": [
    "X_train, X_test, y_train, y_test = train_test_split(X2, y2, random_state=99)"
   ]
  },
  {
   "cell_type": "code",
   "execution_count": 63,
   "metadata": {},
   "outputs": [
    {
     "data": {
      "text/plain": [
       "KNeighborsClassifier(algorithm='auto', leaf_size=30, metric='minkowski',\n",
       "           metric_params=None, n_jobs=1, n_neighbors=1, p=2,\n",
       "           weights='uniform')"
      ]
     },
     "execution_count": 63,
     "metadata": {},
     "output_type": "execute_result"
    }
   ],
   "source": [
    "#train the model on the training set (using K=1)\n",
    "knn = KNeighborsClassifier(n_neighbors=1)\n",
    "knn.fit(X_train, y_train)"
   ]
  },
  {
   "cell_type": "code",
   "execution_count": 64,
   "metadata": {},
   "outputs": [
    {
     "name": "stdout",
     "output_type": "stream",
     "text": [
      "0.684684684685\n"
     ]
    }
   ],
   "source": [
    "#test the model on the testing set, and check the accuracy\n",
    "y_pred_class = knn.predict(X_test)\n",
    "print(metrics.accuracy_score(y_test, y_pred_class))"
   ]
  },
  {
   "cell_type": "code",
   "execution_count": 65,
   "metadata": {},
   "outputs": [
    {
     "name": "stdout",
     "output_type": "stream",
     "text": [
      "0.707207207207\n"
     ]
    }
   ],
   "source": [
    "#train the model on the training set (using K=2)\n",
    "knn = KNeighborsClassifier(n_neighbors=2)\n",
    "knn.fit(X_train, y_train)\n",
    "\n",
    "#test the model on the testing set, and check the accuracy\n",
    "y_pred_class = knn.predict(X_test)\n",
    "print(metrics.accuracy_score(y_test, y_pred_class))"
   ]
  },
  {
   "cell_type": "code",
   "execution_count": 51,
   "metadata": {},
   "outputs": [
    {
     "data": {
      "text/plain": [
       "0    166\n",
       "1     56\n",
       "Name: playoffs, dtype: int64"
      ]
     },
     "execution_count": 51,
     "metadata": {},
     "output_type": "execute_result"
    }
   ],
   "source": [
    "# examine the class distribution and compute null accuracy\n",
    "y_test.value_counts()\n"
   ]
  },
  {
   "cell_type": "code",
   "execution_count": 52,
   "metadata": {},
   "outputs": [
    {
     "data": {
      "text/plain": [
       "0    0.747748\n",
       "Name: playoffs, dtype: float64"
      ]
     },
     "execution_count": 52,
     "metadata": {},
     "output_type": "execute_result"
    }
   ],
   "source": [
    "# examine the class distribution and compute null accuracy\n",
    "y_test.value_counts().head(1) / len(y_test)"
   ]
  },
  {
   "cell_type": "markdown",
   "metadata": {},
   "source": [
    "## Tuning the KNN Model"
   ]
  },
  {
   "cell_type": "code",
   "execution_count": 53,
   "metadata": {
    "collapsed": true
   },
   "outputs": [],
   "source": [
    "# instantiate the model (using the value K=5)\n",
    "knn = KNeighborsClassifier(n_neighbors=2)\n",
    "\n",
    "# fit the model with data\n",
    "knn.fit(X, y)\n",
    "\n",
    "# store the predicted response values\n",
    "y_pred_class = knn.predict(X)"
   ]
  },
  {
   "cell_type": "code",
   "execution_count": 54,
   "metadata": {},
   "outputs": [
    {
     "data": {
      "text/plain": [
       "array([[ 1. ,  0. ],\n",
       "       [ 0.5,  0.5],\n",
       "       [ 1. ,  0. ],\n",
       "       ..., \n",
       "       [ 0.5,  0.5],\n",
       "       [ 1. ,  0. ],\n",
       "       [ 1. ,  0. ]])"
      ]
     },
     "execution_count": 54,
     "metadata": {},
     "output_type": "execute_result"
    }
   ],
   "source": [
    "# # calculate predicted probabilities of class membership\n",
    "knn.predict_proba(X)"
   ]
  },
  {
   "cell_type": "code",
   "execution_count": 55,
   "metadata": {
    "collapsed": true
   },
   "outputs": [],
   "source": [
    "# viewing the accuracy of the training data\n",
    "scores = []\n",
    "for k in range(1,100):\n",
    "    knn = KNeighborsClassifier(n_neighbors=k)\n",
    "    knn.fit(X,y)\n",
    "    pred = knn.predict(X)\n",
    "    score = float(sum(pred == y)) / len(y)\n",
    "    scores.append([k, score])"
   ]
  },
  {
   "cell_type": "code",
   "execution_count": 56,
   "metadata": {},
   "outputs": [
    {
     "data": {
      "image/png": "[encoded data removed]",
      "text/plain": [
       "<matplotlib.figure.Figure at 0xed23208>"
      ]
     },
     "metadata": {},
     "output_type": "display_data"
    }
   ],
   "source": [
    "data = pd.DataFrame(scores,columns=['k','score'])\n",
    "data.plot.line(x='k',y='score');or'].idxmin()"
   ]
  },
  {
   "cell_type": "code",
   "execution_count": 67,
   "metadata": {},
   "outputs": [],
   "source": [
    "from sklearn.metrics import accuracy_score\n",
    "\n",
    "k_range = range(1, 101)\n",
    "training_error = []\n",
    "testing_error = []\n",
    "\n",
    "# Find test accuracy for all values of K between 1 and 100 (inclusive).\n",
    "for k in k_range:\n",
    "\n",
    "    # Instantiate the model with the current K value.\n",
    "    knn = KNeighborsClassifier(n_neighbors=k)\n",
    "    knn.fit(X_train, y_train)\n",
    "    \n",
    "    # Calculate training error (error = 1 - accuracy).\n",
    "    y_pred_class = knn.predict(X)\n",
    "    training_accuracy = accuracy_score(y, y_pred_class)\n",
    "    training_error.append(1 - training_accuracy)\n",
    "    \n",
    "    # Calculate testing error.\n",
    "    y_pred_class = knn.predict(X_test)\n",
    "    testing_accuracy = accuracy_score(y_test, y_pred_class)\n",
    "    testing_error.append(1 - testing_accuracy)"
   ]
  },
  {
   "cell_type": "code",
   "execution_count": 68,
   "metadata": {},
   "outputs": [
    {
     "data": {
      "text/plain": [
       "(0.23873873873873874, 16)"
      ]
     },
     "execution_count": 68,
     "metadata": {},
     "output_type": "execute_result"
    }
   ],
   "source": [
    "min(zip(testing_error, k_range))"
   ]
  },
  {
   "cell_type": "code",
   "execution_count": 69,
   "metadata": {},
   "outputs": [
    {
     "name": "stdout",
     "output_type": "stream",
     "text": [
      "0.761261261261\n"
     ]
    }
   ],
   "source": [
    "#train the model on the training set (using K=16)\n",
    "knn = KNeighborsClassifier(n_neighbors=16)\n",
    "knn.fit(X_train, y_train)\n",
    "\n",
    "#test the model on the testing set, and check the accuracy\n",
    "y_pred_class = knn.predict(X_test)\n",
    "print(metrics.accuracy_score(y_test, y_pred_class))"
   ]
  },
  {
   "cell_type": "code",
   "execution_count": null,
   "metadata": {
    "collapsed": true
   },
   "outputs": [],
   "source": []
  }
 ],
 "metadata": {
  "kernelspec": {
   "display_name": "Python 2",
   "language": "python",
   "name": "python2"
  },
  "language_info": {
   "codemirror_mode": {
    "name": "ipython",
    "version": 2
   },
   "file_extension": ".py",
   "mimetype": "text/x-python",
   "name": "python",
   "nbconvert_exporter": "python",
   "pygments_lexer": "ipython2",
   "version": "2.7.13"
  }
 },
 "nbformat": 4,
 "nbformat_minor": 2
}
