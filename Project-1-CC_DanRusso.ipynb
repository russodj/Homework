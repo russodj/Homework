{
 "cells": [
  {
   "cell_type": "markdown",
   "metadata": {},
   "source": [
    "<img src=\"http://imgur.com/1ZcRyrc.png\" style=\"float: left; margin: 20px; height: 55px\">\n",
    "\n",
    "# Project 1: Python Coding Exercises\n",
    "\n",
    "_Authors: Joseph Nelson (DC) _\n",
    "\n",
    "---"
   ]
  },
  {
   "cell_type": "markdown",
   "metadata": {},
   "source": [
    "The following code challenges are drawn from common exercises used in technical interviews.\n",
    "\n",
    "Note that there may be several ways to approach each challenge!"
   ]
  },
  {
   "cell_type": "markdown",
   "metadata": {},
   "source": [
    "### Challenge 1.1: Largest Palindrome\n",
    "A palindromic number reads the same both ways. For example, 1234321 is a palindrome. The largest palindrome made from the product of two two-digit numbers is 9009 = 91 × 99. Find the largest palindrome made from the product of two three-digit numbers."
   ]
  },
  {
   "cell_type": "code",
   "execution_count": 5,
   "metadata": {},
   "outputs": [
    {
     "name": "stdout",
     "output_type": "stream",
     "text": [
      "906609\n"
     ]
    }
   ],
   "source": [
    "palindromelist=[]\n",
    "for x in range(100,1000):\n",
    "    for y in range(100,1000):\n",
    "        z = x*y\n",
    "        if str(z) == str(z)[::-1]:\n",
    "        #if palindrome(z): \n",
    "            palindromelist.append(z)\n",
    "print(max(palindromelist))"
   ]
  },
  {
   "cell_type": "markdown",
   "metadata": {},
   "source": [
    "\n",
    "### Challenge 1.2: Summation of Primes\n",
    "The sum of the primes below 10 is 2 + 3 + 5 + 7 = 17. Find the sum of all the primes below 2,000."
   ]
  },
  {
   "cell_type": "code",
   "execution_count": 3,
   "metadata": {},
   "outputs": [
    {
     "name": "stdout",
     "output_type": "stream",
     "text": [
      "277050\n"
     ]
    }
   ],
   "source": [
    "primelist = []\n",
    "for num in range(2, 2001):\n",
    "    prime = True\n",
    "    for i in range(2,num):\n",
    "        if (num%i==0):\n",
    "            prime = False\n",
    "    if prime: \n",
    "            primelist.append(num)\n",
    "print sum(primelist)"
   ]
  },
  {
   "cell_type": "markdown",
   "metadata": {},
   "source": [
    "### Challenge 1.3: Multiples of 3 and 5\n",
    "If we list all of the natural numbers below 10 that are multiples of 3 or 5, we get 3, 5, 6, and 9. The sum of these multiples is 23. Find the sum of all the multiples of 3 and 5 below 1,000."
   ]
  },
  {
   "cell_type": "code",
   "execution_count": 6,
   "metadata": {},
   "outputs": [
    {
     "name": "stdout",
     "output_type": "stream",
     "text": [
      "200003\n"
     ]
    }
   ],
   "source": [
    "multiples = []\n",
    "for i in range(1, 1000):\n",
    "    if i % 15 != 0 and (i % 5 == 0 or i % 3 == 0):\n",
    "        multiples.append(i)\n",
    "print sum(multiples)"
   ]
  },
  {
   "cell_type": "markdown",
   "metadata": {},
   "source": [
    "### Challenge 2: FizzBuzz\n",
    "Write a program that prints all of the numbers from 1 to 100. For multiples of 3, instead of the number, print \"Fizz;\" for multiples of 5, print \"Buzz.\" For numbers that are multiples of both 3 and 5, print \"FizzBuzz.\" Bonus: If that's too easy, create three unique solutions. Sometimes you'll encounter unexpected constraints, so make sure you're able to think creatively!"
   ]
  },
  {
   "cell_type": "code",
   "execution_count": 7,
   "metadata": {},
   "outputs": [
    {
     "name": "stdout",
     "output_type": "stream",
     "text": [
      "1\n",
      "2\n",
      "3 fizz\n",
      "4\n",
      "5 buzz\n",
      "6 fizz\n",
      "7\n",
      "8\n",
      "9 fizz\n",
      "10 buzz\n",
      "11\n",
      "12 fizz\n",
      "13\n",
      "14\n",
      "15 fizzbuzz\n",
      "16\n",
      "17\n",
      "18 fizz\n",
      "19\n",
      "20 buzz\n",
      "21 fizz\n",
      "22\n",
      "23\n",
      "24 fizz\n",
      "25 buzz\n",
      "26\n",
      "27 fizz\n",
      "28\n",
      "29\n",
      "30 fizzbuzz\n",
      "31\n",
      "32\n",
      "33 fizz\n",
      "34\n",
      "35 buzz\n",
      "36 fizz\n",
      "37\n",
      "38\n",
      "39 fizz\n",
      "40 buzz\n",
      "41\n",
      "42 fizz\n",
      "43\n",
      "44\n",
      "45 fizzbuzz\n",
      "46\n",
      "47\n",
      "48 fizz\n",
      "49\n",
      "50 buzz\n",
      "51 fizz\n",
      "52\n",
      "53\n",
      "54 fizz\n",
      "55 buzz\n",
      "56\n",
      "57 fizz\n",
      "58\n",
      "59\n",
      "60 fizzbuzz\n",
      "61\n",
      "62\n",
      "63 fizz\n",
      "64\n",
      "65 buzz\n",
      "66 fizz\n",
      "67\n",
      "68\n",
      "69 fizz\n",
      "70 buzz\n",
      "71\n",
      "72 fizz\n",
      "73\n",
      "74\n",
      "75 fizzbuzz\n",
      "76\n",
      "77\n",
      "78 fizz\n",
      "79\n",
      "80 buzz\n",
      "81 fizz\n",
      "82\n",
      "83\n",
      "84 fizz\n",
      "85 buzz\n",
      "86\n",
      "87 fizz\n",
      "88\n",
      "89\n",
      "90 fizzbuzz\n",
      "91\n",
      "92\n",
      "93 fizz\n",
      "94\n",
      "95 buzz\n",
      "96 fizz\n",
      "97\n",
      "98\n",
      "99 fizz\n",
      "100 buzz\n"
     ]
    }
   ],
   "source": [
    "\n",
    "for i in range(1, 101):\n",
    "    if i % 5 == 0 and i % 3 == 0:\n",
    "        print i, 'fizzbuzz'\n",
    "    elif i % 5 == 0:\n",
    "        print i, 'buzz'\n",
    "    elif i % 3 == 0:\n",
    "        print i, 'fizz'\n",
    "    else: \n",
    "        print i "
   ]
  },
  {
   "cell_type": "markdown",
   "metadata": {},
   "source": [
    "### Challenge 3: String Compressor\n",
    "Implement a method to perform basic string compression using the counts of repeated characters. (This is called run-length encoding.) For example, the string \"aabcccccaaa\" would become a2b1c5a3. If the “compressed” string would not become smaller than the original string, your method should return the original string. You can assume the string has only uppercase and lowercase letters (a–z). Specify whether your solution is case sensitive or case insensitive and what you would need to change to make it the other."
   ]
  },
  {
   "cell_type": "code",
   "execution_count": 11,
   "metadata": {},
   "outputs": [
    {
     "name": "stdout",
     "output_type": "stream",
     "text": [
      "r2t2p3r2R4\n",
      "abcdef\n"
     ]
    }
   ],
   "source": [
    "def compressor(string):\n",
    "        compressed = []\n",
    "        first = string[0]\n",
    "        count = 1\n",
    "        for x in string[1:]:\n",
    "            if x == first:\n",
    "                count += 1\n",
    "            else:\n",
    "                    compressed.append(first)\n",
    "                    compressed.append(str(count))\n",
    "                    count = 1\n",
    "                    first = x\n",
    "        compressed.append(first)\n",
    "        compressed.append(str(count))\n",
    "        if len(compressed) >= len(string): \n",
    "            return string\n",
    "        else:\n",
    "            return ''.join(compressed)\n",
    "\n",
    "print compressor('rrttppprrRRRR')\n",
    "print compressor('abcdef')\n",
    "\n",
    "# This is case sensitive. To make this case insensitive I would add string = string.lower() after the first row of code"
   ]
  }
 ],
 "metadata": {
  "anaconda-cloud": {},
  "kernelspec": {
   "display_name": "Python 2",
   "language": "python",
   "name": "python2"
  },
  "language_info": {
   "codemirror_mode": {
    "name": "ipython",
    "version": 2
   },
   "file_extension": ".py",
   "mimetype": "text/x-python",
   "name": "python",
   "nbconvert_exporter": "python",
   "pygments_lexer": "ipython2",
   "version": "2.7.13"
  }
 },
 "nbformat": 4,
 "nbformat_minor": 2
}
